{
 "cells": [
  {
   "cell_type": "code",
   "execution_count": 1,
   "id": "e3eeb366",
   "metadata": {},
   "outputs": [],
   "source": [
    "import numpy as np\n",
    "import pandas as pd\n",
    "import matplotlib.pyplot as plt"
   ]
  },
  {
   "cell_type": "markdown",
   "id": "b9d7bc9a",
   "metadata": {},
   "source": [
    "|Feature Name||Description|\n",
    "|------------||-----------|\n",
    "|BHK||Bedroom Hall Kitchen|\n",
    "|Rent|| Price Of The House|\n",
    "|Floor||The Floor Of The Apartment|\n",
    "|Area Type|| Type of Area|\n",
    "|Area Locality|| Locality of House|\n",
    "|Furnishing Status|| Whether The Apartment is Furnished or not|\n",
    "|Tenant Preferred||Type of Tenant Preferred|\n",
    "|Bathroom ||Number Of Bathrooms|\n",
    "|Point of Contact||Whom to Contact to|\n"
   ]
  },
  {
   "cell_type": "markdown",
   "id": "0060b338",
   "metadata": {},
   "source": [
    "# IMPORT THE DATASET"
   ]
  },
  {
   "cell_type": "code",
   "execution_count": 2,
   "id": "dee7997a",
   "metadata": {},
   "outputs": [],
   "source": [
    "df=pd.read_csv(\"House_Rent_Dataset.csv\")"
   ]
  },
  {
   "cell_type": "code",
   "execution_count": 3,
   "id": "6d07fcc1",
   "metadata": {},
   "outputs": [
    {
     "data": {
      "text/html": [
       "<div>\n",
       "<style scoped>\n",
       "    .dataframe tbody tr th:only-of-type {\n",
       "        vertical-align: middle;\n",
       "    }\n",
       "\n",
       "    .dataframe tbody tr th {\n",
       "        vertical-align: top;\n",
       "    }\n",
       "\n",
       "    .dataframe thead th {\n",
       "        text-align: right;\n",
       "    }\n",
       "</style>\n",
       "<table border=\"1\" class=\"dataframe\">\n",
       "  <thead>\n",
       "    <tr style=\"text-align: right;\">\n",
       "      <th></th>\n",
       "      <th>Posted On</th>\n",
       "      <th>BHK</th>\n",
       "      <th>Rent</th>\n",
       "      <th>Size</th>\n",
       "      <th>Floor</th>\n",
       "      <th>Area Type</th>\n",
       "      <th>Area Locality</th>\n",
       "      <th>City</th>\n",
       "      <th>Furnishing Status</th>\n",
       "      <th>Tenant Preferred</th>\n",
       "      <th>Bathroom</th>\n",
       "      <th>Point of Contact</th>\n",
       "    </tr>\n",
       "  </thead>\n",
       "  <tbody>\n",
       "    <tr>\n",
       "      <th>0</th>\n",
       "      <td>2022-05-18</td>\n",
       "      <td>2</td>\n",
       "      <td>10000</td>\n",
       "      <td>1100</td>\n",
       "      <td>Ground out of 2</td>\n",
       "      <td>Super Area</td>\n",
       "      <td>Bandel</td>\n",
       "      <td>Kolkata</td>\n",
       "      <td>Unfurnished</td>\n",
       "      <td>Bachelors/Family</td>\n",
       "      <td>2</td>\n",
       "      <td>Contact Owner</td>\n",
       "    </tr>\n",
       "    <tr>\n",
       "      <th>1</th>\n",
       "      <td>2022-05-13</td>\n",
       "      <td>2</td>\n",
       "      <td>20000</td>\n",
       "      <td>800</td>\n",
       "      <td>1 out of 3</td>\n",
       "      <td>Super Area</td>\n",
       "      <td>Phool Bagan, Kankurgachi</td>\n",
       "      <td>Kolkata</td>\n",
       "      <td>Semi-Furnished</td>\n",
       "      <td>Bachelors/Family</td>\n",
       "      <td>1</td>\n",
       "      <td>Contact Owner</td>\n",
       "    </tr>\n",
       "    <tr>\n",
       "      <th>2</th>\n",
       "      <td>2022-05-16</td>\n",
       "      <td>2</td>\n",
       "      <td>17000</td>\n",
       "      <td>1000</td>\n",
       "      <td>1 out of 3</td>\n",
       "      <td>Super Area</td>\n",
       "      <td>Salt Lake City Sector 2</td>\n",
       "      <td>Kolkata</td>\n",
       "      <td>Semi-Furnished</td>\n",
       "      <td>Bachelors/Family</td>\n",
       "      <td>1</td>\n",
       "      <td>Contact Owner</td>\n",
       "    </tr>\n",
       "    <tr>\n",
       "      <th>3</th>\n",
       "      <td>2022-07-04</td>\n",
       "      <td>2</td>\n",
       "      <td>10000</td>\n",
       "      <td>800</td>\n",
       "      <td>1 out of 2</td>\n",
       "      <td>Super Area</td>\n",
       "      <td>Dumdum Park</td>\n",
       "      <td>Kolkata</td>\n",
       "      <td>Unfurnished</td>\n",
       "      <td>Bachelors/Family</td>\n",
       "      <td>1</td>\n",
       "      <td>Contact Owner</td>\n",
       "    </tr>\n",
       "    <tr>\n",
       "      <th>4</th>\n",
       "      <td>2022-05-09</td>\n",
       "      <td>2</td>\n",
       "      <td>7500</td>\n",
       "      <td>850</td>\n",
       "      <td>1 out of 2</td>\n",
       "      <td>Carpet Area</td>\n",
       "      <td>South Dum Dum</td>\n",
       "      <td>Kolkata</td>\n",
       "      <td>Unfurnished</td>\n",
       "      <td>Bachelors</td>\n",
       "      <td>1</td>\n",
       "      <td>Contact Owner</td>\n",
       "    </tr>\n",
       "    <tr>\n",
       "      <th>...</th>\n",
       "      <td>...</td>\n",
       "      <td>...</td>\n",
       "      <td>...</td>\n",
       "      <td>...</td>\n",
       "      <td>...</td>\n",
       "      <td>...</td>\n",
       "      <td>...</td>\n",
       "      <td>...</td>\n",
       "      <td>...</td>\n",
       "      <td>...</td>\n",
       "      <td>...</td>\n",
       "      <td>...</td>\n",
       "    </tr>\n",
       "    <tr>\n",
       "      <th>4741</th>\n",
       "      <td>2022-05-18</td>\n",
       "      <td>2</td>\n",
       "      <td>15000</td>\n",
       "      <td>1000</td>\n",
       "      <td>3 out of 5</td>\n",
       "      <td>Carpet Area</td>\n",
       "      <td>Bandam Kommu</td>\n",
       "      <td>Hyderabad</td>\n",
       "      <td>Semi-Furnished</td>\n",
       "      <td>Bachelors/Family</td>\n",
       "      <td>2</td>\n",
       "      <td>Contact Owner</td>\n",
       "    </tr>\n",
       "    <tr>\n",
       "      <th>4742</th>\n",
       "      <td>2022-05-15</td>\n",
       "      <td>3</td>\n",
       "      <td>29000</td>\n",
       "      <td>2000</td>\n",
       "      <td>1 out of 4</td>\n",
       "      <td>Super Area</td>\n",
       "      <td>Manikonda, Hyderabad</td>\n",
       "      <td>Hyderabad</td>\n",
       "      <td>Semi-Furnished</td>\n",
       "      <td>Bachelors/Family</td>\n",
       "      <td>3</td>\n",
       "      <td>Contact Owner</td>\n",
       "    </tr>\n",
       "    <tr>\n",
       "      <th>4743</th>\n",
       "      <td>2022-07-10</td>\n",
       "      <td>3</td>\n",
       "      <td>35000</td>\n",
       "      <td>1750</td>\n",
       "      <td>3 out of 5</td>\n",
       "      <td>Carpet Area</td>\n",
       "      <td>Himayath Nagar, NH 7</td>\n",
       "      <td>Hyderabad</td>\n",
       "      <td>Semi-Furnished</td>\n",
       "      <td>Bachelors/Family</td>\n",
       "      <td>3</td>\n",
       "      <td>Contact Agent</td>\n",
       "    </tr>\n",
       "    <tr>\n",
       "      <th>4744</th>\n",
       "      <td>2022-07-06</td>\n",
       "      <td>3</td>\n",
       "      <td>45000</td>\n",
       "      <td>1500</td>\n",
       "      <td>23 out of 34</td>\n",
       "      <td>Carpet Area</td>\n",
       "      <td>Gachibowli</td>\n",
       "      <td>Hyderabad</td>\n",
       "      <td>Semi-Furnished</td>\n",
       "      <td>Family</td>\n",
       "      <td>2</td>\n",
       "      <td>Contact Agent</td>\n",
       "    </tr>\n",
       "    <tr>\n",
       "      <th>4745</th>\n",
       "      <td>2022-05-04</td>\n",
       "      <td>2</td>\n",
       "      <td>15000</td>\n",
       "      <td>1000</td>\n",
       "      <td>4 out of 5</td>\n",
       "      <td>Carpet Area</td>\n",
       "      <td>Suchitra Circle</td>\n",
       "      <td>Hyderabad</td>\n",
       "      <td>Unfurnished</td>\n",
       "      <td>Bachelors</td>\n",
       "      <td>2</td>\n",
       "      <td>Contact Owner</td>\n",
       "    </tr>\n",
       "  </tbody>\n",
       "</table>\n",
       "<p>4746 rows × 12 columns</p>\n",
       "</div>"
      ],
      "text/plain": [
       "       Posted On  BHK   Rent  Size            Floor    Area Type  \\\n",
       "0     2022-05-18    2  10000  1100  Ground out of 2   Super Area   \n",
       "1     2022-05-13    2  20000   800       1 out of 3   Super Area   \n",
       "2     2022-05-16    2  17000  1000       1 out of 3   Super Area   \n",
       "3     2022-07-04    2  10000   800       1 out of 2   Super Area   \n",
       "4     2022-05-09    2   7500   850       1 out of 2  Carpet Area   \n",
       "...          ...  ...    ...   ...              ...          ...   \n",
       "4741  2022-05-18    2  15000  1000       3 out of 5  Carpet Area   \n",
       "4742  2022-05-15    3  29000  2000       1 out of 4   Super Area   \n",
       "4743  2022-07-10    3  35000  1750       3 out of 5  Carpet Area   \n",
       "4744  2022-07-06    3  45000  1500     23 out of 34  Carpet Area   \n",
       "4745  2022-05-04    2  15000  1000       4 out of 5  Carpet Area   \n",
       "\n",
       "                 Area Locality       City Furnishing Status  Tenant Preferred  \\\n",
       "0                       Bandel    Kolkata       Unfurnished  Bachelors/Family   \n",
       "1     Phool Bagan, Kankurgachi    Kolkata    Semi-Furnished  Bachelors/Family   \n",
       "2      Salt Lake City Sector 2    Kolkata    Semi-Furnished  Bachelors/Family   \n",
       "3                  Dumdum Park    Kolkata       Unfurnished  Bachelors/Family   \n",
       "4                South Dum Dum    Kolkata       Unfurnished         Bachelors   \n",
       "...                        ...        ...               ...               ...   \n",
       "4741              Bandam Kommu  Hyderabad    Semi-Furnished  Bachelors/Family   \n",
       "4742      Manikonda, Hyderabad  Hyderabad    Semi-Furnished  Bachelors/Family   \n",
       "4743      Himayath Nagar, NH 7  Hyderabad    Semi-Furnished  Bachelors/Family   \n",
       "4744                Gachibowli  Hyderabad    Semi-Furnished            Family   \n",
       "4745           Suchitra Circle  Hyderabad       Unfurnished         Bachelors   \n",
       "\n",
       "      Bathroom Point of Contact  \n",
       "0            2    Contact Owner  \n",
       "1            1    Contact Owner  \n",
       "2            1    Contact Owner  \n",
       "3            1    Contact Owner  \n",
       "4            1    Contact Owner  \n",
       "...        ...              ...  \n",
       "4741         2    Contact Owner  \n",
       "4742         3    Contact Owner  \n",
       "4743         3    Contact Agent  \n",
       "4744         2    Contact Agent  \n",
       "4745         2    Contact Owner  \n",
       "\n",
       "[4746 rows x 12 columns]"
      ]
     },
     "execution_count": 3,
     "metadata": {},
     "output_type": "execute_result"
    }
   ],
   "source": [
    "df"
   ]
  },
  {
   "cell_type": "markdown",
   "id": "169b271f",
   "metadata": {},
   "source": [
    "# EXPLORATORY DATA ANALYSIS"
   ]
  },
  {
   "cell_type": "code",
   "execution_count": 4,
   "id": "27b0c81e",
   "metadata": {},
   "outputs": [
    {
     "data": {
      "text/plain": [
       "array(['Ground out of 2', '1 out of 3', '1 out of 3', ..., '3 out of 5',\n",
       "       '23 out of 34', '4 out of 5'], dtype=object)"
      ]
     },
     "execution_count": 4,
     "metadata": {},
     "output_type": "execute_result"
    }
   ],
   "source": [
    "df[\"Floor\"].values"
   ]
  },
  {
   "cell_type": "code",
   "execution_count": 5,
   "id": "d8493746",
   "metadata": {},
   "outputs": [
    {
     "data": {
      "text/plain": [
       "Index(['Posted On', 'BHK', 'Rent', 'Size', 'Floor', 'Area Type',\n",
       "       'Area Locality', 'City', 'Furnishing Status', 'Tenant Preferred',\n",
       "       'Bathroom', 'Point of Contact'],\n",
       "      dtype='object')"
      ]
     },
     "execution_count": 5,
     "metadata": {},
     "output_type": "execute_result"
    }
   ],
   "source": [
    "df.columns"
   ]
  },
  {
   "cell_type": "code",
   "execution_count": 6,
   "id": "ba40dd32",
   "metadata": {},
   "outputs": [],
   "source": [
    "df['Posted On'] = pd.to_datetime(df[\"Posted On\"])"
   ]
  },
  {
   "cell_type": "code",
   "execution_count": 7,
   "id": "87c7226b",
   "metadata": {},
   "outputs": [],
   "source": [
    "# DATA VALUES \n",
    "df['month posted'] = df['Posted On'].dt.month\n",
    "df['day posted'] = df['Posted On'].dt.day\n",
    "df['day of week posted'] = df['Posted On'].dt.day_of_week\n",
    "df['quarter poster'] = df['Posted On'].dt.quarter"
   ]
  },
  {
   "cell_type": "code",
   "execution_count": 8,
   "id": "51466547",
   "metadata": {},
   "outputs": [
    {
     "data": {
      "text/plain": [
       "Posted On             0\n",
       "BHK                   0\n",
       "Rent                  0\n",
       "Size                  0\n",
       "Floor                 0\n",
       "Area Type             0\n",
       "Area Locality         0\n",
       "City                  0\n",
       "Furnishing Status     0\n",
       "Tenant Preferred      0\n",
       "Bathroom              0\n",
       "Point of Contact      0\n",
       "month posted          0\n",
       "day posted            0\n",
       "day of week posted    0\n",
       "quarter poster        0\n",
       "dtype: int64"
      ]
     },
     "execution_count": 8,
     "metadata": {},
     "output_type": "execute_result"
    }
   ],
   "source": [
    "df.isnull().sum()"
   ]
  },
  {
   "cell_type": "code",
   "execution_count": 9,
   "id": "be34c779",
   "metadata": {},
   "outputs": [
    {
     "name": "stdout",
     "output_type": "stream",
     "text": [
      "0\n"
     ]
    }
   ],
   "source": [
    "print(df.duplicated().sum())\n",
    "df = df.drop_duplicates()"
   ]
  },
  {
   "cell_type": "markdown",
   "id": "6bb54e65",
   "metadata": {},
   "source": [
    "# DATA PREPROCESSING"
   ]
  },
  {
   "cell_type": "code",
   "execution_count": 10,
   "id": "52e44914",
   "metadata": {},
   "outputs": [
    {
     "data": {
      "text/html": [
       "<div>\n",
       "<style scoped>\n",
       "    .dataframe tbody tr th:only-of-type {\n",
       "        vertical-align: middle;\n",
       "    }\n",
       "\n",
       "    .dataframe tbody tr th {\n",
       "        vertical-align: top;\n",
       "    }\n",
       "\n",
       "    .dataframe thead th {\n",
       "        text-align: right;\n",
       "    }\n",
       "</style>\n",
       "<table border=\"1\" class=\"dataframe\">\n",
       "  <thead>\n",
       "    <tr style=\"text-align: right;\">\n",
       "      <th></th>\n",
       "      <th>Current</th>\n",
       "      <th>Total</th>\n",
       "    </tr>\n",
       "  </thead>\n",
       "  <tbody>\n",
       "    <tr>\n",
       "      <th>0</th>\n",
       "      <td>Gr</td>\n",
       "      <td>2</td>\n",
       "    </tr>\n",
       "    <tr>\n",
       "      <th>1</th>\n",
       "      <td>1</td>\n",
       "      <td>3</td>\n",
       "    </tr>\n",
       "    <tr>\n",
       "      <th>2</th>\n",
       "      <td>1</td>\n",
       "      <td>3</td>\n",
       "    </tr>\n",
       "    <tr>\n",
       "      <th>3</th>\n",
       "      <td>1</td>\n",
       "      <td>2</td>\n",
       "    </tr>\n",
       "    <tr>\n",
       "      <th>4</th>\n",
       "      <td>1</td>\n",
       "      <td>2</td>\n",
       "    </tr>\n",
       "    <tr>\n",
       "      <th>...</th>\n",
       "      <td>...</td>\n",
       "      <td>...</td>\n",
       "    </tr>\n",
       "    <tr>\n",
       "      <th>4741</th>\n",
       "      <td>3</td>\n",
       "      <td>5</td>\n",
       "    </tr>\n",
       "    <tr>\n",
       "      <th>4742</th>\n",
       "      <td>1</td>\n",
       "      <td>4</td>\n",
       "    </tr>\n",
       "    <tr>\n",
       "      <th>4743</th>\n",
       "      <td>3</td>\n",
       "      <td>5</td>\n",
       "    </tr>\n",
       "    <tr>\n",
       "      <th>4744</th>\n",
       "      <td>23</td>\n",
       "      <td>34</td>\n",
       "    </tr>\n",
       "    <tr>\n",
       "      <th>4745</th>\n",
       "      <td>4</td>\n",
       "      <td>5</td>\n",
       "    </tr>\n",
       "  </tbody>\n",
       "</table>\n",
       "<p>4746 rows × 2 columns</p>\n",
       "</div>"
      ],
      "text/plain": [
       "     Current Total\n",
       "0         Gr     2\n",
       "1         1      3\n",
       "2         1      3\n",
       "3         1      2\n",
       "4         1      2\n",
       "...      ...   ...\n",
       "4741      3      5\n",
       "4742      1      4\n",
       "4743      3      5\n",
       "4744      23    34\n",
       "4745      4      5\n",
       "\n",
       "[4746 rows x 2 columns]"
      ]
     },
     "execution_count": 10,
     "metadata": {},
     "output_type": "execute_result"
    }
   ],
   "source": [
    "d=list(df[\"Floor\"].str[:2])\n",
    "b=list(df[\"Floor\"].str[-2:])\n",
    "\n",
    "floor1=pd.DataFrame(d,columns=[\"Current\"] ) \n",
    "floor2=pd.DataFrame(b,columns=[\"Total\"] )\n",
    "\n",
    "floor4=pd.concat([floor1,floor2],axis=1)\n",
    "floor4"
   ]
  },
  {
   "cell_type": "code",
   "execution_count": 11,
   "id": "7a687574",
   "metadata": {},
   "outputs": [],
   "source": [
    "df=df.drop(\"Floor\",axis=1)\n"
   ]
  },
  {
   "cell_type": "code",
   "execution_count": 12,
   "id": "42cd6ab6",
   "metadata": {},
   "outputs": [],
   "source": [
    "df=df.drop(\"Area Locality\",axis=1)"
   ]
  },
  {
   "cell_type": "code",
   "execution_count": 13,
   "id": "768e7f1e",
   "metadata": {},
   "outputs": [],
   "source": [
    "data=pd.concat([df,floor4],axis=1)\n",
    "data=data.drop(\"Posted On\",axis=1)"
   ]
  },
  {
   "cell_type": "code",
   "execution_count": 14,
   "id": "d8d99702",
   "metadata": {},
   "outputs": [
    {
     "data": {
      "text/html": [
       "<div>\n",
       "<style scoped>\n",
       "    .dataframe tbody tr th:only-of-type {\n",
       "        vertical-align: middle;\n",
       "    }\n",
       "\n",
       "    .dataframe tbody tr th {\n",
       "        vertical-align: top;\n",
       "    }\n",
       "\n",
       "    .dataframe thead th {\n",
       "        text-align: right;\n",
       "    }\n",
       "</style>\n",
       "<table border=\"1\" class=\"dataframe\">\n",
       "  <thead>\n",
       "    <tr style=\"text-align: right;\">\n",
       "      <th></th>\n",
       "      <th>BHK</th>\n",
       "      <th>Rent</th>\n",
       "      <th>Size</th>\n",
       "      <th>Area Type</th>\n",
       "      <th>City</th>\n",
       "      <th>Furnishing Status</th>\n",
       "      <th>Tenant Preferred</th>\n",
       "      <th>Bathroom</th>\n",
       "      <th>Point of Contact</th>\n",
       "      <th>month posted</th>\n",
       "      <th>day posted</th>\n",
       "      <th>day of week posted</th>\n",
       "      <th>quarter poster</th>\n",
       "      <th>Current</th>\n",
       "      <th>Total</th>\n",
       "    </tr>\n",
       "  </thead>\n",
       "  <tbody>\n",
       "    <tr>\n",
       "      <th>0</th>\n",
       "      <td>2</td>\n",
       "      <td>10000</td>\n",
       "      <td>1100</td>\n",
       "      <td>Super Area</td>\n",
       "      <td>Kolkata</td>\n",
       "      <td>Unfurnished</td>\n",
       "      <td>Bachelors/Family</td>\n",
       "      <td>2</td>\n",
       "      <td>Contact Owner</td>\n",
       "      <td>5</td>\n",
       "      <td>18</td>\n",
       "      <td>2</td>\n",
       "      <td>2</td>\n",
       "      <td>Gr</td>\n",
       "      <td>2</td>\n",
       "    </tr>\n",
       "    <tr>\n",
       "      <th>1</th>\n",
       "      <td>2</td>\n",
       "      <td>20000</td>\n",
       "      <td>800</td>\n",
       "      <td>Super Area</td>\n",
       "      <td>Kolkata</td>\n",
       "      <td>Semi-Furnished</td>\n",
       "      <td>Bachelors/Family</td>\n",
       "      <td>1</td>\n",
       "      <td>Contact Owner</td>\n",
       "      <td>5</td>\n",
       "      <td>13</td>\n",
       "      <td>4</td>\n",
       "      <td>2</td>\n",
       "      <td>1</td>\n",
       "      <td>3</td>\n",
       "    </tr>\n",
       "    <tr>\n",
       "      <th>2</th>\n",
       "      <td>2</td>\n",
       "      <td>17000</td>\n",
       "      <td>1000</td>\n",
       "      <td>Super Area</td>\n",
       "      <td>Kolkata</td>\n",
       "      <td>Semi-Furnished</td>\n",
       "      <td>Bachelors/Family</td>\n",
       "      <td>1</td>\n",
       "      <td>Contact Owner</td>\n",
       "      <td>5</td>\n",
       "      <td>16</td>\n",
       "      <td>0</td>\n",
       "      <td>2</td>\n",
       "      <td>1</td>\n",
       "      <td>3</td>\n",
       "    </tr>\n",
       "    <tr>\n",
       "      <th>3</th>\n",
       "      <td>2</td>\n",
       "      <td>10000</td>\n",
       "      <td>800</td>\n",
       "      <td>Super Area</td>\n",
       "      <td>Kolkata</td>\n",
       "      <td>Unfurnished</td>\n",
       "      <td>Bachelors/Family</td>\n",
       "      <td>1</td>\n",
       "      <td>Contact Owner</td>\n",
       "      <td>7</td>\n",
       "      <td>4</td>\n",
       "      <td>0</td>\n",
       "      <td>3</td>\n",
       "      <td>1</td>\n",
       "      <td>2</td>\n",
       "    </tr>\n",
       "    <tr>\n",
       "      <th>4</th>\n",
       "      <td>2</td>\n",
       "      <td>7500</td>\n",
       "      <td>850</td>\n",
       "      <td>Carpet Area</td>\n",
       "      <td>Kolkata</td>\n",
       "      <td>Unfurnished</td>\n",
       "      <td>Bachelors</td>\n",
       "      <td>1</td>\n",
       "      <td>Contact Owner</td>\n",
       "      <td>5</td>\n",
       "      <td>9</td>\n",
       "      <td>0</td>\n",
       "      <td>2</td>\n",
       "      <td>1</td>\n",
       "      <td>2</td>\n",
       "    </tr>\n",
       "    <tr>\n",
       "      <th>...</th>\n",
       "      <td>...</td>\n",
       "      <td>...</td>\n",
       "      <td>...</td>\n",
       "      <td>...</td>\n",
       "      <td>...</td>\n",
       "      <td>...</td>\n",
       "      <td>...</td>\n",
       "      <td>...</td>\n",
       "      <td>...</td>\n",
       "      <td>...</td>\n",
       "      <td>...</td>\n",
       "      <td>...</td>\n",
       "      <td>...</td>\n",
       "      <td>...</td>\n",
       "      <td>...</td>\n",
       "    </tr>\n",
       "    <tr>\n",
       "      <th>4741</th>\n",
       "      <td>2</td>\n",
       "      <td>15000</td>\n",
       "      <td>1000</td>\n",
       "      <td>Carpet Area</td>\n",
       "      <td>Hyderabad</td>\n",
       "      <td>Semi-Furnished</td>\n",
       "      <td>Bachelors/Family</td>\n",
       "      <td>2</td>\n",
       "      <td>Contact Owner</td>\n",
       "      <td>5</td>\n",
       "      <td>18</td>\n",
       "      <td>2</td>\n",
       "      <td>2</td>\n",
       "      <td>3</td>\n",
       "      <td>5</td>\n",
       "    </tr>\n",
       "    <tr>\n",
       "      <th>4742</th>\n",
       "      <td>3</td>\n",
       "      <td>29000</td>\n",
       "      <td>2000</td>\n",
       "      <td>Super Area</td>\n",
       "      <td>Hyderabad</td>\n",
       "      <td>Semi-Furnished</td>\n",
       "      <td>Bachelors/Family</td>\n",
       "      <td>3</td>\n",
       "      <td>Contact Owner</td>\n",
       "      <td>5</td>\n",
       "      <td>15</td>\n",
       "      <td>6</td>\n",
       "      <td>2</td>\n",
       "      <td>1</td>\n",
       "      <td>4</td>\n",
       "    </tr>\n",
       "    <tr>\n",
       "      <th>4743</th>\n",
       "      <td>3</td>\n",
       "      <td>35000</td>\n",
       "      <td>1750</td>\n",
       "      <td>Carpet Area</td>\n",
       "      <td>Hyderabad</td>\n",
       "      <td>Semi-Furnished</td>\n",
       "      <td>Bachelors/Family</td>\n",
       "      <td>3</td>\n",
       "      <td>Contact Agent</td>\n",
       "      <td>7</td>\n",
       "      <td>10</td>\n",
       "      <td>6</td>\n",
       "      <td>3</td>\n",
       "      <td>3</td>\n",
       "      <td>5</td>\n",
       "    </tr>\n",
       "    <tr>\n",
       "      <th>4744</th>\n",
       "      <td>3</td>\n",
       "      <td>45000</td>\n",
       "      <td>1500</td>\n",
       "      <td>Carpet Area</td>\n",
       "      <td>Hyderabad</td>\n",
       "      <td>Semi-Furnished</td>\n",
       "      <td>Family</td>\n",
       "      <td>2</td>\n",
       "      <td>Contact Agent</td>\n",
       "      <td>7</td>\n",
       "      <td>6</td>\n",
       "      <td>2</td>\n",
       "      <td>3</td>\n",
       "      <td>23</td>\n",
       "      <td>34</td>\n",
       "    </tr>\n",
       "    <tr>\n",
       "      <th>4745</th>\n",
       "      <td>2</td>\n",
       "      <td>15000</td>\n",
       "      <td>1000</td>\n",
       "      <td>Carpet Area</td>\n",
       "      <td>Hyderabad</td>\n",
       "      <td>Unfurnished</td>\n",
       "      <td>Bachelors</td>\n",
       "      <td>2</td>\n",
       "      <td>Contact Owner</td>\n",
       "      <td>5</td>\n",
       "      <td>4</td>\n",
       "      <td>2</td>\n",
       "      <td>2</td>\n",
       "      <td>4</td>\n",
       "      <td>5</td>\n",
       "    </tr>\n",
       "  </tbody>\n",
       "</table>\n",
       "<p>4746 rows × 15 columns</p>\n",
       "</div>"
      ],
      "text/plain": [
       "      BHK   Rent  Size    Area Type       City Furnishing Status  \\\n",
       "0       2  10000  1100   Super Area    Kolkata       Unfurnished   \n",
       "1       2  20000   800   Super Area    Kolkata    Semi-Furnished   \n",
       "2       2  17000  1000   Super Area    Kolkata    Semi-Furnished   \n",
       "3       2  10000   800   Super Area    Kolkata       Unfurnished   \n",
       "4       2   7500   850  Carpet Area    Kolkata       Unfurnished   \n",
       "...   ...    ...   ...          ...        ...               ...   \n",
       "4741    2  15000  1000  Carpet Area  Hyderabad    Semi-Furnished   \n",
       "4742    3  29000  2000   Super Area  Hyderabad    Semi-Furnished   \n",
       "4743    3  35000  1750  Carpet Area  Hyderabad    Semi-Furnished   \n",
       "4744    3  45000  1500  Carpet Area  Hyderabad    Semi-Furnished   \n",
       "4745    2  15000  1000  Carpet Area  Hyderabad       Unfurnished   \n",
       "\n",
       "      Tenant Preferred  Bathroom Point of Contact  month posted  day posted  \\\n",
       "0     Bachelors/Family         2    Contact Owner             5          18   \n",
       "1     Bachelors/Family         1    Contact Owner             5          13   \n",
       "2     Bachelors/Family         1    Contact Owner             5          16   \n",
       "3     Bachelors/Family         1    Contact Owner             7           4   \n",
       "4            Bachelors         1    Contact Owner             5           9   \n",
       "...                ...       ...              ...           ...         ...   \n",
       "4741  Bachelors/Family         2    Contact Owner             5          18   \n",
       "4742  Bachelors/Family         3    Contact Owner             5          15   \n",
       "4743  Bachelors/Family         3    Contact Agent             7          10   \n",
       "4744            Family         2    Contact Agent             7           6   \n",
       "4745         Bachelors         2    Contact Owner             5           4   \n",
       "\n",
       "      day of week posted  quarter poster Current Total  \n",
       "0                      2               2      Gr     2  \n",
       "1                      4               2      1      3  \n",
       "2                      0               2      1      3  \n",
       "3                      0               3      1      2  \n",
       "4                      0               2      1      2  \n",
       "...                  ...             ...     ...   ...  \n",
       "4741                   2               2      3      5  \n",
       "4742                   6               2      1      4  \n",
       "4743                   6               3      3      5  \n",
       "4744                   2               3      23    34  \n",
       "4745                   2               2      4      5  \n",
       "\n",
       "[4746 rows x 15 columns]"
      ]
     },
     "execution_count": 14,
     "metadata": {},
     "output_type": "execute_result"
    }
   ],
   "source": [
    "data"
   ]
  },
  {
   "cell_type": "code",
   "execution_count": 15,
   "id": "8a9679ad",
   "metadata": {},
   "outputs": [
    {
     "data": {
      "text/plain": [
       "1     1159\n",
       "2      945\n",
       "Gr     927\n",
       "3      511\n",
       "4      272\n",
       "5      164\n",
       "6       93\n",
       "7       74\n",
       "10      67\n",
       "8       66\n",
       "9       65\n",
       "12      47\n",
       "11      43\n",
       "15      41\n",
       "14      34\n",
       "18      26\n",
       "Up      23\n",
       "17      22\n",
       "16      21\n",
       "19      16\n",
       "13      15\n",
       "20      12\n",
       "25      12\n",
       "Lo      11\n",
       "23       9\n",
       "24       6\n",
       "21       6\n",
       "30       5\n",
       "34       4\n",
       "28       4\n",
       "27       3\n",
       "35       3\n",
       "22       3\n",
       "32       3\n",
       "26       3\n",
       "65       3\n",
       "60       3\n",
       "40       2\n",
       "36       2\n",
       "48       2\n",
       "45       2\n",
       "53       2\n",
       "1        2\n",
       "44       1\n",
       "41       1\n",
       "46       1\n",
       "33       1\n",
       "37       1\n",
       "50       1\n",
       "39       1\n",
       "43       1\n",
       "29       1\n",
       "49       1\n",
       "47       1\n",
       "76       1\n",
       "3        1\n",
       "Name: Current, dtype: int64"
      ]
     },
     "execution_count": 15,
     "metadata": {},
     "output_type": "execute_result"
    }
   ],
   "source": [
    "data[\"Current\"].value_counts()"
   ]
  },
  {
   "cell_type": "code",
   "execution_count": 16,
   "id": "da7d6d6b",
   "metadata": {},
   "outputs": [],
   "source": [
    "data[\"Current\"]=data[\"Current\"].replace(\"Gr\",0)\n",
    "data[\"Current\"]=data[\"Current\"].replace(\"Up\",-1)\n",
    "data[\"Current\"]=data[\"Current\"].replace(\"Lo\",-2)"
   ]
  },
  {
   "cell_type": "code",
   "execution_count": 17,
   "id": "9ef8095a",
   "metadata": {},
   "outputs": [
    {
     "data": {
      "text/html": [
       "<div>\n",
       "<style scoped>\n",
       "    .dataframe tbody tr th:only-of-type {\n",
       "        vertical-align: middle;\n",
       "    }\n",
       "\n",
       "    .dataframe tbody tr th {\n",
       "        vertical-align: top;\n",
       "    }\n",
       "\n",
       "    .dataframe thead th {\n",
       "        text-align: right;\n",
       "    }\n",
       "</style>\n",
       "<table border=\"1\" class=\"dataframe\">\n",
       "  <thead>\n",
       "    <tr style=\"text-align: right;\">\n",
       "      <th></th>\n",
       "      <th>BHK</th>\n",
       "      <th>Rent</th>\n",
       "      <th>Size</th>\n",
       "      <th>Area Type</th>\n",
       "      <th>City</th>\n",
       "      <th>Furnishing Status</th>\n",
       "      <th>Tenant Preferred</th>\n",
       "      <th>Bathroom</th>\n",
       "      <th>Point of Contact</th>\n",
       "      <th>month posted</th>\n",
       "      <th>day posted</th>\n",
       "      <th>day of week posted</th>\n",
       "      <th>quarter poster</th>\n",
       "      <th>Current</th>\n",
       "      <th>Total</th>\n",
       "    </tr>\n",
       "  </thead>\n",
       "  <tbody>\n",
       "    <tr>\n",
       "      <th>0</th>\n",
       "      <td>2</td>\n",
       "      <td>10000</td>\n",
       "      <td>1100</td>\n",
       "      <td>Super Area</td>\n",
       "      <td>Kolkata</td>\n",
       "      <td>Unfurnished</td>\n",
       "      <td>Bachelors/Family</td>\n",
       "      <td>2</td>\n",
       "      <td>Contact Owner</td>\n",
       "      <td>5</td>\n",
       "      <td>18</td>\n",
       "      <td>2</td>\n",
       "      <td>2</td>\n",
       "      <td>0</td>\n",
       "      <td>2</td>\n",
       "    </tr>\n",
       "    <tr>\n",
       "      <th>1</th>\n",
       "      <td>2</td>\n",
       "      <td>20000</td>\n",
       "      <td>800</td>\n",
       "      <td>Super Area</td>\n",
       "      <td>Kolkata</td>\n",
       "      <td>Semi-Furnished</td>\n",
       "      <td>Bachelors/Family</td>\n",
       "      <td>1</td>\n",
       "      <td>Contact Owner</td>\n",
       "      <td>5</td>\n",
       "      <td>13</td>\n",
       "      <td>4</td>\n",
       "      <td>2</td>\n",
       "      <td>1</td>\n",
       "      <td>3</td>\n",
       "    </tr>\n",
       "    <tr>\n",
       "      <th>2</th>\n",
       "      <td>2</td>\n",
       "      <td>17000</td>\n",
       "      <td>1000</td>\n",
       "      <td>Super Area</td>\n",
       "      <td>Kolkata</td>\n",
       "      <td>Semi-Furnished</td>\n",
       "      <td>Bachelors/Family</td>\n",
       "      <td>1</td>\n",
       "      <td>Contact Owner</td>\n",
       "      <td>5</td>\n",
       "      <td>16</td>\n",
       "      <td>0</td>\n",
       "      <td>2</td>\n",
       "      <td>1</td>\n",
       "      <td>3</td>\n",
       "    </tr>\n",
       "    <tr>\n",
       "      <th>3</th>\n",
       "      <td>2</td>\n",
       "      <td>10000</td>\n",
       "      <td>800</td>\n",
       "      <td>Super Area</td>\n",
       "      <td>Kolkata</td>\n",
       "      <td>Unfurnished</td>\n",
       "      <td>Bachelors/Family</td>\n",
       "      <td>1</td>\n",
       "      <td>Contact Owner</td>\n",
       "      <td>7</td>\n",
       "      <td>4</td>\n",
       "      <td>0</td>\n",
       "      <td>3</td>\n",
       "      <td>1</td>\n",
       "      <td>2</td>\n",
       "    </tr>\n",
       "    <tr>\n",
       "      <th>4</th>\n",
       "      <td>2</td>\n",
       "      <td>7500</td>\n",
       "      <td>850</td>\n",
       "      <td>Carpet Area</td>\n",
       "      <td>Kolkata</td>\n",
       "      <td>Unfurnished</td>\n",
       "      <td>Bachelors</td>\n",
       "      <td>1</td>\n",
       "      <td>Contact Owner</td>\n",
       "      <td>5</td>\n",
       "      <td>9</td>\n",
       "      <td>0</td>\n",
       "      <td>2</td>\n",
       "      <td>1</td>\n",
       "      <td>2</td>\n",
       "    </tr>\n",
       "    <tr>\n",
       "      <th>...</th>\n",
       "      <td>...</td>\n",
       "      <td>...</td>\n",
       "      <td>...</td>\n",
       "      <td>...</td>\n",
       "      <td>...</td>\n",
       "      <td>...</td>\n",
       "      <td>...</td>\n",
       "      <td>...</td>\n",
       "      <td>...</td>\n",
       "      <td>...</td>\n",
       "      <td>...</td>\n",
       "      <td>...</td>\n",
       "      <td>...</td>\n",
       "      <td>...</td>\n",
       "      <td>...</td>\n",
       "    </tr>\n",
       "    <tr>\n",
       "      <th>4741</th>\n",
       "      <td>2</td>\n",
       "      <td>15000</td>\n",
       "      <td>1000</td>\n",
       "      <td>Carpet Area</td>\n",
       "      <td>Hyderabad</td>\n",
       "      <td>Semi-Furnished</td>\n",
       "      <td>Bachelors/Family</td>\n",
       "      <td>2</td>\n",
       "      <td>Contact Owner</td>\n",
       "      <td>5</td>\n",
       "      <td>18</td>\n",
       "      <td>2</td>\n",
       "      <td>2</td>\n",
       "      <td>3</td>\n",
       "      <td>5</td>\n",
       "    </tr>\n",
       "    <tr>\n",
       "      <th>4742</th>\n",
       "      <td>3</td>\n",
       "      <td>29000</td>\n",
       "      <td>2000</td>\n",
       "      <td>Super Area</td>\n",
       "      <td>Hyderabad</td>\n",
       "      <td>Semi-Furnished</td>\n",
       "      <td>Bachelors/Family</td>\n",
       "      <td>3</td>\n",
       "      <td>Contact Owner</td>\n",
       "      <td>5</td>\n",
       "      <td>15</td>\n",
       "      <td>6</td>\n",
       "      <td>2</td>\n",
       "      <td>1</td>\n",
       "      <td>4</td>\n",
       "    </tr>\n",
       "    <tr>\n",
       "      <th>4743</th>\n",
       "      <td>3</td>\n",
       "      <td>35000</td>\n",
       "      <td>1750</td>\n",
       "      <td>Carpet Area</td>\n",
       "      <td>Hyderabad</td>\n",
       "      <td>Semi-Furnished</td>\n",
       "      <td>Bachelors/Family</td>\n",
       "      <td>3</td>\n",
       "      <td>Contact Agent</td>\n",
       "      <td>7</td>\n",
       "      <td>10</td>\n",
       "      <td>6</td>\n",
       "      <td>3</td>\n",
       "      <td>3</td>\n",
       "      <td>5</td>\n",
       "    </tr>\n",
       "    <tr>\n",
       "      <th>4744</th>\n",
       "      <td>3</td>\n",
       "      <td>45000</td>\n",
       "      <td>1500</td>\n",
       "      <td>Carpet Area</td>\n",
       "      <td>Hyderabad</td>\n",
       "      <td>Semi-Furnished</td>\n",
       "      <td>Family</td>\n",
       "      <td>2</td>\n",
       "      <td>Contact Agent</td>\n",
       "      <td>7</td>\n",
       "      <td>6</td>\n",
       "      <td>2</td>\n",
       "      <td>3</td>\n",
       "      <td>23</td>\n",
       "      <td>34</td>\n",
       "    </tr>\n",
       "    <tr>\n",
       "      <th>4745</th>\n",
       "      <td>2</td>\n",
       "      <td>15000</td>\n",
       "      <td>1000</td>\n",
       "      <td>Carpet Area</td>\n",
       "      <td>Hyderabad</td>\n",
       "      <td>Unfurnished</td>\n",
       "      <td>Bachelors</td>\n",
       "      <td>2</td>\n",
       "      <td>Contact Owner</td>\n",
       "      <td>5</td>\n",
       "      <td>4</td>\n",
       "      <td>2</td>\n",
       "      <td>2</td>\n",
       "      <td>4</td>\n",
       "      <td>5</td>\n",
       "    </tr>\n",
       "  </tbody>\n",
       "</table>\n",
       "<p>4746 rows × 15 columns</p>\n",
       "</div>"
      ],
      "text/plain": [
       "      BHK   Rent  Size    Area Type       City Furnishing Status  \\\n",
       "0       2  10000  1100   Super Area    Kolkata       Unfurnished   \n",
       "1       2  20000   800   Super Area    Kolkata    Semi-Furnished   \n",
       "2       2  17000  1000   Super Area    Kolkata    Semi-Furnished   \n",
       "3       2  10000   800   Super Area    Kolkata       Unfurnished   \n",
       "4       2   7500   850  Carpet Area    Kolkata       Unfurnished   \n",
       "...   ...    ...   ...          ...        ...               ...   \n",
       "4741    2  15000  1000  Carpet Area  Hyderabad    Semi-Furnished   \n",
       "4742    3  29000  2000   Super Area  Hyderabad    Semi-Furnished   \n",
       "4743    3  35000  1750  Carpet Area  Hyderabad    Semi-Furnished   \n",
       "4744    3  45000  1500  Carpet Area  Hyderabad    Semi-Furnished   \n",
       "4745    2  15000  1000  Carpet Area  Hyderabad       Unfurnished   \n",
       "\n",
       "      Tenant Preferred  Bathroom Point of Contact  month posted  day posted  \\\n",
       "0     Bachelors/Family         2    Contact Owner             5          18   \n",
       "1     Bachelors/Family         1    Contact Owner             5          13   \n",
       "2     Bachelors/Family         1    Contact Owner             5          16   \n",
       "3     Bachelors/Family         1    Contact Owner             7           4   \n",
       "4            Bachelors         1    Contact Owner             5           9   \n",
       "...                ...       ...              ...           ...         ...   \n",
       "4741  Bachelors/Family         2    Contact Owner             5          18   \n",
       "4742  Bachelors/Family         3    Contact Owner             5          15   \n",
       "4743  Bachelors/Family         3    Contact Agent             7          10   \n",
       "4744            Family         2    Contact Agent             7           6   \n",
       "4745         Bachelors         2    Contact Owner             5           4   \n",
       "\n",
       "      day of week posted  quarter poster Current Total  \n",
       "0                      2               2       0     2  \n",
       "1                      4               2      1      3  \n",
       "2                      0               2      1      3  \n",
       "3                      0               3      1      2  \n",
       "4                      0               2      1      2  \n",
       "...                  ...             ...     ...   ...  \n",
       "4741                   2               2      3      5  \n",
       "4742                   6               2      1      4  \n",
       "4743                   6               3      3      5  \n",
       "4744                   2               3      23    34  \n",
       "4745                   2               2      4      5  \n",
       "\n",
       "[4746 rows x 15 columns]"
      ]
     },
     "execution_count": 17,
     "metadata": {},
     "output_type": "execute_result"
    }
   ],
   "source": [
    "data"
   ]
  },
  {
   "cell_type": "code",
   "execution_count": 18,
   "id": "e1967e2b",
   "metadata": {},
   "outputs": [
    {
     "data": {
      "text/plain": [
       " 4    938\n",
       " 3    914\n",
       " 2    868\n",
       " 5    422\n",
       " 1    333\n",
       "     ... \n",
       "81      1\n",
       "66      1\n",
       "3       1\n",
       "nd      1\n",
       "89      1\n",
       "Name: Total, Length: 69, dtype: int64"
      ]
     },
     "execution_count": 18,
     "metadata": {},
     "output_type": "execute_result"
    }
   ],
   "source": [
    "data[\"Total\"].value_counts()"
   ]
  },
  {
   "cell_type": "code",
   "execution_count": 19,
   "id": "e1aa9a55",
   "metadata": {},
   "outputs": [],
   "source": [
    "data[\"Total\"]=data[\"Total\"].replace(\"nd\",0)"
   ]
  },
  {
   "cell_type": "code",
   "execution_count": 20,
   "id": "3a0bd01f",
   "metadata": {},
   "outputs": [],
   "source": [
    "data[\"Current\"]=pd.to_numeric(data[\"Current\"],errors='coerce')\n",
    "data[\"Total\"]=pd.to_numeric(data[\"Total\"],errors='coerce')"
   ]
  },
  {
   "cell_type": "code",
   "execution_count": 21,
   "id": "68ad5917",
   "metadata": {},
   "outputs": [
    {
     "name": "stdout",
     "output_type": "stream",
     "text": [
      "<class 'pandas.core.frame.DataFrame'>\n",
      "Int64Index: 4746 entries, 0 to 4745\n",
      "Data columns (total 15 columns):\n",
      " #   Column              Non-Null Count  Dtype \n",
      "---  ------              --------------  ----- \n",
      " 0   BHK                 4746 non-null   int64 \n",
      " 1   Rent                4746 non-null   int64 \n",
      " 2   Size                4746 non-null   int64 \n",
      " 3   Area Type           4746 non-null   object\n",
      " 4   City                4746 non-null   object\n",
      " 5   Furnishing Status   4746 non-null   object\n",
      " 6   Tenant Preferred    4746 non-null   object\n",
      " 7   Bathroom            4746 non-null   int64 \n",
      " 8   Point of Contact    4746 non-null   object\n",
      " 9   month posted        4746 non-null   int64 \n",
      " 10  day posted          4746 non-null   int64 \n",
      " 11  day of week posted  4746 non-null   int64 \n",
      " 12  quarter poster      4746 non-null   int64 \n",
      " 13  Current             4746 non-null   int64 \n",
      " 14  Total               4746 non-null   int64 \n",
      "dtypes: int64(10), object(5)\n",
      "memory usage: 593.2+ KB\n"
     ]
    }
   ],
   "source": [
    "data.info()"
   ]
  },
  {
   "cell_type": "code",
   "execution_count": 22,
   "id": "80c30979",
   "metadata": {},
   "outputs": [
    {
     "data": {
      "text/plain": [
       "['Area Type',\n",
       " 'City',\n",
       " 'Furnishing Status',\n",
       " 'Tenant Preferred',\n",
       " 'Point of Contact']"
      ]
     },
     "execution_count": 22,
     "metadata": {},
     "output_type": "execute_result"
    }
   ],
   "source": [
    "categorical=[\"Area Type\",\"City\",\"Furnishing Status\",\"Tenant Preferred\",\"Point of Contact\"]\n",
    "categorical"
   ]
  },
  {
   "cell_type": "code",
   "execution_count": 23,
   "id": "2cfb2381",
   "metadata": {},
   "outputs": [],
   "source": [
    "from sklearn.compose import ColumnTransformer\n",
    "from sklearn.preprocessing import OneHotEncoder\n",
    "from sklearn.preprocessing import LabelEncoder"
   ]
  },
  {
   "cell_type": "code",
   "execution_count": 24,
   "id": "4f34e742",
   "metadata": {},
   "outputs": [],
   "source": [
    "one_encoder=OneHotEncoder(sparse=False,drop='first')\n",
    "val=one_encoder.fit_transform(data[categorical])\n",
    "val1=pd.DataFrame(val)"
   ]
  },
  {
   "cell_type": "code",
   "execution_count": 25,
   "id": "17273dc4",
   "metadata": {},
   "outputs": [],
   "source": [
    "data=data.drop(categorical,axis=1)"
   ]
  },
  {
   "cell_type": "code",
   "execution_count": 26,
   "id": "e17fea24",
   "metadata": {},
   "outputs": [],
   "source": [
    "data=pd.concat([data,val1],axis=1)"
   ]
  },
  {
   "cell_type": "code",
   "execution_count": 27,
   "id": "c51df37b",
   "metadata": {},
   "outputs": [
    {
     "data": {
      "text/html": [
       "<div>\n",
       "<style scoped>\n",
       "    .dataframe tbody tr th:only-of-type {\n",
       "        vertical-align: middle;\n",
       "    }\n",
       "\n",
       "    .dataframe tbody tr th {\n",
       "        vertical-align: top;\n",
       "    }\n",
       "\n",
       "    .dataframe thead th {\n",
       "        text-align: right;\n",
       "    }\n",
       "</style>\n",
       "<table border=\"1\" class=\"dataframe\">\n",
       "  <thead>\n",
       "    <tr style=\"text-align: right;\">\n",
       "      <th></th>\n",
       "      <th>BHK</th>\n",
       "      <th>Rent</th>\n",
       "      <th>Size</th>\n",
       "      <th>Bathroom</th>\n",
       "      <th>month posted</th>\n",
       "      <th>day posted</th>\n",
       "      <th>day of week posted</th>\n",
       "      <th>quarter poster</th>\n",
       "      <th>Current</th>\n",
       "      <th>Total</th>\n",
       "      <th>...</th>\n",
       "      <th>3</th>\n",
       "      <th>4</th>\n",
       "      <th>5</th>\n",
       "      <th>6</th>\n",
       "      <th>7</th>\n",
       "      <th>8</th>\n",
       "      <th>9</th>\n",
       "      <th>10</th>\n",
       "      <th>11</th>\n",
       "      <th>12</th>\n",
       "    </tr>\n",
       "  </thead>\n",
       "  <tbody>\n",
       "    <tr>\n",
       "      <th>0</th>\n",
       "      <td>2</td>\n",
       "      <td>10000</td>\n",
       "      <td>1100</td>\n",
       "      <td>2</td>\n",
       "      <td>5</td>\n",
       "      <td>18</td>\n",
       "      <td>2</td>\n",
       "      <td>2</td>\n",
       "      <td>0</td>\n",
       "      <td>2</td>\n",
       "      <td>...</td>\n",
       "      <td>0.0</td>\n",
       "      <td>0.0</td>\n",
       "      <td>1.0</td>\n",
       "      <td>0.0</td>\n",
       "      <td>0.0</td>\n",
       "      <td>1.0</td>\n",
       "      <td>1.0</td>\n",
       "      <td>0.0</td>\n",
       "      <td>0.0</td>\n",
       "      <td>1.0</td>\n",
       "    </tr>\n",
       "    <tr>\n",
       "      <th>1</th>\n",
       "      <td>2</td>\n",
       "      <td>20000</td>\n",
       "      <td>800</td>\n",
       "      <td>1</td>\n",
       "      <td>5</td>\n",
       "      <td>13</td>\n",
       "      <td>4</td>\n",
       "      <td>2</td>\n",
       "      <td>1</td>\n",
       "      <td>3</td>\n",
       "      <td>...</td>\n",
       "      <td>0.0</td>\n",
       "      <td>0.0</td>\n",
       "      <td>1.0</td>\n",
       "      <td>0.0</td>\n",
       "      <td>1.0</td>\n",
       "      <td>0.0</td>\n",
       "      <td>1.0</td>\n",
       "      <td>0.0</td>\n",
       "      <td>0.0</td>\n",
       "      <td>1.0</td>\n",
       "    </tr>\n",
       "    <tr>\n",
       "      <th>2</th>\n",
       "      <td>2</td>\n",
       "      <td>17000</td>\n",
       "      <td>1000</td>\n",
       "      <td>1</td>\n",
       "      <td>5</td>\n",
       "      <td>16</td>\n",
       "      <td>0</td>\n",
       "      <td>2</td>\n",
       "      <td>1</td>\n",
       "      <td>3</td>\n",
       "      <td>...</td>\n",
       "      <td>0.0</td>\n",
       "      <td>0.0</td>\n",
       "      <td>1.0</td>\n",
       "      <td>0.0</td>\n",
       "      <td>1.0</td>\n",
       "      <td>0.0</td>\n",
       "      <td>1.0</td>\n",
       "      <td>0.0</td>\n",
       "      <td>0.0</td>\n",
       "      <td>1.0</td>\n",
       "    </tr>\n",
       "    <tr>\n",
       "      <th>3</th>\n",
       "      <td>2</td>\n",
       "      <td>10000</td>\n",
       "      <td>800</td>\n",
       "      <td>1</td>\n",
       "      <td>7</td>\n",
       "      <td>4</td>\n",
       "      <td>0</td>\n",
       "      <td>3</td>\n",
       "      <td>1</td>\n",
       "      <td>2</td>\n",
       "      <td>...</td>\n",
       "      <td>0.0</td>\n",
       "      <td>0.0</td>\n",
       "      <td>1.0</td>\n",
       "      <td>0.0</td>\n",
       "      <td>0.0</td>\n",
       "      <td>1.0</td>\n",
       "      <td>1.0</td>\n",
       "      <td>0.0</td>\n",
       "      <td>0.0</td>\n",
       "      <td>1.0</td>\n",
       "    </tr>\n",
       "    <tr>\n",
       "      <th>4</th>\n",
       "      <td>2</td>\n",
       "      <td>7500</td>\n",
       "      <td>850</td>\n",
       "      <td>1</td>\n",
       "      <td>5</td>\n",
       "      <td>9</td>\n",
       "      <td>0</td>\n",
       "      <td>2</td>\n",
       "      <td>1</td>\n",
       "      <td>2</td>\n",
       "      <td>...</td>\n",
       "      <td>0.0</td>\n",
       "      <td>0.0</td>\n",
       "      <td>1.0</td>\n",
       "      <td>0.0</td>\n",
       "      <td>0.0</td>\n",
       "      <td>1.0</td>\n",
       "      <td>0.0</td>\n",
       "      <td>0.0</td>\n",
       "      <td>0.0</td>\n",
       "      <td>1.0</td>\n",
       "    </tr>\n",
       "    <tr>\n",
       "      <th>...</th>\n",
       "      <td>...</td>\n",
       "      <td>...</td>\n",
       "      <td>...</td>\n",
       "      <td>...</td>\n",
       "      <td>...</td>\n",
       "      <td>...</td>\n",
       "      <td>...</td>\n",
       "      <td>...</td>\n",
       "      <td>...</td>\n",
       "      <td>...</td>\n",
       "      <td>...</td>\n",
       "      <td>...</td>\n",
       "      <td>...</td>\n",
       "      <td>...</td>\n",
       "      <td>...</td>\n",
       "      <td>...</td>\n",
       "      <td>...</td>\n",
       "      <td>...</td>\n",
       "      <td>...</td>\n",
       "      <td>...</td>\n",
       "      <td>...</td>\n",
       "    </tr>\n",
       "    <tr>\n",
       "      <th>4741</th>\n",
       "      <td>2</td>\n",
       "      <td>15000</td>\n",
       "      <td>1000</td>\n",
       "      <td>2</td>\n",
       "      <td>5</td>\n",
       "      <td>18</td>\n",
       "      <td>2</td>\n",
       "      <td>2</td>\n",
       "      <td>3</td>\n",
       "      <td>5</td>\n",
       "      <td>...</td>\n",
       "      <td>0.0</td>\n",
       "      <td>1.0</td>\n",
       "      <td>0.0</td>\n",
       "      <td>0.0</td>\n",
       "      <td>1.0</td>\n",
       "      <td>0.0</td>\n",
       "      <td>1.0</td>\n",
       "      <td>0.0</td>\n",
       "      <td>0.0</td>\n",
       "      <td>1.0</td>\n",
       "    </tr>\n",
       "    <tr>\n",
       "      <th>4742</th>\n",
       "      <td>3</td>\n",
       "      <td>29000</td>\n",
       "      <td>2000</td>\n",
       "      <td>3</td>\n",
       "      <td>5</td>\n",
       "      <td>15</td>\n",
       "      <td>6</td>\n",
       "      <td>2</td>\n",
       "      <td>1</td>\n",
       "      <td>4</td>\n",
       "      <td>...</td>\n",
       "      <td>0.0</td>\n",
       "      <td>1.0</td>\n",
       "      <td>0.0</td>\n",
       "      <td>0.0</td>\n",
       "      <td>1.0</td>\n",
       "      <td>0.0</td>\n",
       "      <td>1.0</td>\n",
       "      <td>0.0</td>\n",
       "      <td>0.0</td>\n",
       "      <td>1.0</td>\n",
       "    </tr>\n",
       "    <tr>\n",
       "      <th>4743</th>\n",
       "      <td>3</td>\n",
       "      <td>35000</td>\n",
       "      <td>1750</td>\n",
       "      <td>3</td>\n",
       "      <td>7</td>\n",
       "      <td>10</td>\n",
       "      <td>6</td>\n",
       "      <td>3</td>\n",
       "      <td>3</td>\n",
       "      <td>5</td>\n",
       "      <td>...</td>\n",
       "      <td>0.0</td>\n",
       "      <td>1.0</td>\n",
       "      <td>0.0</td>\n",
       "      <td>0.0</td>\n",
       "      <td>1.0</td>\n",
       "      <td>0.0</td>\n",
       "      <td>1.0</td>\n",
       "      <td>0.0</td>\n",
       "      <td>0.0</td>\n",
       "      <td>0.0</td>\n",
       "    </tr>\n",
       "    <tr>\n",
       "      <th>4744</th>\n",
       "      <td>3</td>\n",
       "      <td>45000</td>\n",
       "      <td>1500</td>\n",
       "      <td>2</td>\n",
       "      <td>7</td>\n",
       "      <td>6</td>\n",
       "      <td>2</td>\n",
       "      <td>3</td>\n",
       "      <td>23</td>\n",
       "      <td>34</td>\n",
       "      <td>...</td>\n",
       "      <td>0.0</td>\n",
       "      <td>1.0</td>\n",
       "      <td>0.0</td>\n",
       "      <td>0.0</td>\n",
       "      <td>1.0</td>\n",
       "      <td>0.0</td>\n",
       "      <td>0.0</td>\n",
       "      <td>1.0</td>\n",
       "      <td>0.0</td>\n",
       "      <td>0.0</td>\n",
       "    </tr>\n",
       "    <tr>\n",
       "      <th>4745</th>\n",
       "      <td>2</td>\n",
       "      <td>15000</td>\n",
       "      <td>1000</td>\n",
       "      <td>2</td>\n",
       "      <td>5</td>\n",
       "      <td>4</td>\n",
       "      <td>2</td>\n",
       "      <td>2</td>\n",
       "      <td>4</td>\n",
       "      <td>5</td>\n",
       "      <td>...</td>\n",
       "      <td>0.0</td>\n",
       "      <td>1.0</td>\n",
       "      <td>0.0</td>\n",
       "      <td>0.0</td>\n",
       "      <td>0.0</td>\n",
       "      <td>1.0</td>\n",
       "      <td>0.0</td>\n",
       "      <td>0.0</td>\n",
       "      <td>0.0</td>\n",
       "      <td>1.0</td>\n",
       "    </tr>\n",
       "  </tbody>\n",
       "</table>\n",
       "<p>4746 rows × 23 columns</p>\n",
       "</div>"
      ],
      "text/plain": [
       "      BHK   Rent  Size  Bathroom  month posted  day posted  \\\n",
       "0       2  10000  1100         2             5          18   \n",
       "1       2  20000   800         1             5          13   \n",
       "2       2  17000  1000         1             5          16   \n",
       "3       2  10000   800         1             7           4   \n",
       "4       2   7500   850         1             5           9   \n",
       "...   ...    ...   ...       ...           ...         ...   \n",
       "4741    2  15000  1000         2             5          18   \n",
       "4742    3  29000  2000         3             5          15   \n",
       "4743    3  35000  1750         3             7          10   \n",
       "4744    3  45000  1500         2             7           6   \n",
       "4745    2  15000  1000         2             5           4   \n",
       "\n",
       "      day of week posted  quarter poster  Current  Total  ...    3    4    5  \\\n",
       "0                      2               2        0      2  ...  0.0  0.0  1.0   \n",
       "1                      4               2        1      3  ...  0.0  0.0  1.0   \n",
       "2                      0               2        1      3  ...  0.0  0.0  1.0   \n",
       "3                      0               3        1      2  ...  0.0  0.0  1.0   \n",
       "4                      0               2        1      2  ...  0.0  0.0  1.0   \n",
       "...                  ...             ...      ...    ...  ...  ...  ...  ...   \n",
       "4741                   2               2        3      5  ...  0.0  1.0  0.0   \n",
       "4742                   6               2        1      4  ...  0.0  1.0  0.0   \n",
       "4743                   6               3        3      5  ...  0.0  1.0  0.0   \n",
       "4744                   2               3       23     34  ...  0.0  1.0  0.0   \n",
       "4745                   2               2        4      5  ...  0.0  1.0  0.0   \n",
       "\n",
       "        6    7    8    9   10   11   12  \n",
       "0     0.0  0.0  1.0  1.0  0.0  0.0  1.0  \n",
       "1     0.0  1.0  0.0  1.0  0.0  0.0  1.0  \n",
       "2     0.0  1.0  0.0  1.0  0.0  0.0  1.0  \n",
       "3     0.0  0.0  1.0  1.0  0.0  0.0  1.0  \n",
       "4     0.0  0.0  1.0  0.0  0.0  0.0  1.0  \n",
       "...   ...  ...  ...  ...  ...  ...  ...  \n",
       "4741  0.0  1.0  0.0  1.0  0.0  0.0  1.0  \n",
       "4742  0.0  1.0  0.0  1.0  0.0  0.0  1.0  \n",
       "4743  0.0  1.0  0.0  1.0  0.0  0.0  0.0  \n",
       "4744  0.0  1.0  0.0  0.0  1.0  0.0  0.0  \n",
       "4745  0.0  0.0  1.0  0.0  0.0  0.0  1.0  \n",
       "\n",
       "[4746 rows x 23 columns]"
      ]
     },
     "execution_count": 27,
     "metadata": {},
     "output_type": "execute_result"
    }
   ],
   "source": [
    "data"
   ]
  },
  {
   "cell_type": "code",
   "execution_count": 28,
   "id": "be18c024",
   "metadata": {},
   "outputs": [],
   "source": [
    "X=data.drop([\"Rent\"],axis=1)\n",
    "y=(data[\"Rent\"])"
   ]
  },
  {
   "cell_type": "code",
   "execution_count": 29,
   "id": "4526535d",
   "metadata": {},
   "outputs": [
    {
     "data": {
      "text/html": [
       "<div>\n",
       "<style scoped>\n",
       "    .dataframe tbody tr th:only-of-type {\n",
       "        vertical-align: middle;\n",
       "    }\n",
       "\n",
       "    .dataframe tbody tr th {\n",
       "        vertical-align: top;\n",
       "    }\n",
       "\n",
       "    .dataframe thead th {\n",
       "        text-align: right;\n",
       "    }\n",
       "</style>\n",
       "<table border=\"1\" class=\"dataframe\">\n",
       "  <thead>\n",
       "    <tr style=\"text-align: right;\">\n",
       "      <th></th>\n",
       "      <th>BHK</th>\n",
       "      <th>Size</th>\n",
       "      <th>Bathroom</th>\n",
       "      <th>month posted</th>\n",
       "      <th>day posted</th>\n",
       "      <th>day of week posted</th>\n",
       "      <th>quarter poster</th>\n",
       "      <th>Current</th>\n",
       "      <th>Total</th>\n",
       "      <th>0</th>\n",
       "      <th>...</th>\n",
       "      <th>3</th>\n",
       "      <th>4</th>\n",
       "      <th>5</th>\n",
       "      <th>6</th>\n",
       "      <th>7</th>\n",
       "      <th>8</th>\n",
       "      <th>9</th>\n",
       "      <th>10</th>\n",
       "      <th>11</th>\n",
       "      <th>12</th>\n",
       "    </tr>\n",
       "  </thead>\n",
       "  <tbody>\n",
       "    <tr>\n",
       "      <th>0</th>\n",
       "      <td>2</td>\n",
       "      <td>1100</td>\n",
       "      <td>2</td>\n",
       "      <td>5</td>\n",
       "      <td>18</td>\n",
       "      <td>2</td>\n",
       "      <td>2</td>\n",
       "      <td>0</td>\n",
       "      <td>2</td>\n",
       "      <td>0.0</td>\n",
       "      <td>...</td>\n",
       "      <td>0.0</td>\n",
       "      <td>0.0</td>\n",
       "      <td>1.0</td>\n",
       "      <td>0.0</td>\n",
       "      <td>0.0</td>\n",
       "      <td>1.0</td>\n",
       "      <td>1.0</td>\n",
       "      <td>0.0</td>\n",
       "      <td>0.0</td>\n",
       "      <td>1.0</td>\n",
       "    </tr>\n",
       "    <tr>\n",
       "      <th>1</th>\n",
       "      <td>2</td>\n",
       "      <td>800</td>\n",
       "      <td>1</td>\n",
       "      <td>5</td>\n",
       "      <td>13</td>\n",
       "      <td>4</td>\n",
       "      <td>2</td>\n",
       "      <td>1</td>\n",
       "      <td>3</td>\n",
       "      <td>0.0</td>\n",
       "      <td>...</td>\n",
       "      <td>0.0</td>\n",
       "      <td>0.0</td>\n",
       "      <td>1.0</td>\n",
       "      <td>0.0</td>\n",
       "      <td>1.0</td>\n",
       "      <td>0.0</td>\n",
       "      <td>1.0</td>\n",
       "      <td>0.0</td>\n",
       "      <td>0.0</td>\n",
       "      <td>1.0</td>\n",
       "    </tr>\n",
       "    <tr>\n",
       "      <th>2</th>\n",
       "      <td>2</td>\n",
       "      <td>1000</td>\n",
       "      <td>1</td>\n",
       "      <td>5</td>\n",
       "      <td>16</td>\n",
       "      <td>0</td>\n",
       "      <td>2</td>\n",
       "      <td>1</td>\n",
       "      <td>3</td>\n",
       "      <td>0.0</td>\n",
       "      <td>...</td>\n",
       "      <td>0.0</td>\n",
       "      <td>0.0</td>\n",
       "      <td>1.0</td>\n",
       "      <td>0.0</td>\n",
       "      <td>1.0</td>\n",
       "      <td>0.0</td>\n",
       "      <td>1.0</td>\n",
       "      <td>0.0</td>\n",
       "      <td>0.0</td>\n",
       "      <td>1.0</td>\n",
       "    </tr>\n",
       "    <tr>\n",
       "      <th>3</th>\n",
       "      <td>2</td>\n",
       "      <td>800</td>\n",
       "      <td>1</td>\n",
       "      <td>7</td>\n",
       "      <td>4</td>\n",
       "      <td>0</td>\n",
       "      <td>3</td>\n",
       "      <td>1</td>\n",
       "      <td>2</td>\n",
       "      <td>0.0</td>\n",
       "      <td>...</td>\n",
       "      <td>0.0</td>\n",
       "      <td>0.0</td>\n",
       "      <td>1.0</td>\n",
       "      <td>0.0</td>\n",
       "      <td>0.0</td>\n",
       "      <td>1.0</td>\n",
       "      <td>1.0</td>\n",
       "      <td>0.0</td>\n",
       "      <td>0.0</td>\n",
       "      <td>1.0</td>\n",
       "    </tr>\n",
       "    <tr>\n",
       "      <th>4</th>\n",
       "      <td>2</td>\n",
       "      <td>850</td>\n",
       "      <td>1</td>\n",
       "      <td>5</td>\n",
       "      <td>9</td>\n",
       "      <td>0</td>\n",
       "      <td>2</td>\n",
       "      <td>1</td>\n",
       "      <td>2</td>\n",
       "      <td>1.0</td>\n",
       "      <td>...</td>\n",
       "      <td>0.0</td>\n",
       "      <td>0.0</td>\n",
       "      <td>1.0</td>\n",
       "      <td>0.0</td>\n",
       "      <td>0.0</td>\n",
       "      <td>1.0</td>\n",
       "      <td>0.0</td>\n",
       "      <td>0.0</td>\n",
       "      <td>0.0</td>\n",
       "      <td>1.0</td>\n",
       "    </tr>\n",
       "    <tr>\n",
       "      <th>...</th>\n",
       "      <td>...</td>\n",
       "      <td>...</td>\n",
       "      <td>...</td>\n",
       "      <td>...</td>\n",
       "      <td>...</td>\n",
       "      <td>...</td>\n",
       "      <td>...</td>\n",
       "      <td>...</td>\n",
       "      <td>...</td>\n",
       "      <td>...</td>\n",
       "      <td>...</td>\n",
       "      <td>...</td>\n",
       "      <td>...</td>\n",
       "      <td>...</td>\n",
       "      <td>...</td>\n",
       "      <td>...</td>\n",
       "      <td>...</td>\n",
       "      <td>...</td>\n",
       "      <td>...</td>\n",
       "      <td>...</td>\n",
       "      <td>...</td>\n",
       "    </tr>\n",
       "    <tr>\n",
       "      <th>4741</th>\n",
       "      <td>2</td>\n",
       "      <td>1000</td>\n",
       "      <td>2</td>\n",
       "      <td>5</td>\n",
       "      <td>18</td>\n",
       "      <td>2</td>\n",
       "      <td>2</td>\n",
       "      <td>3</td>\n",
       "      <td>5</td>\n",
       "      <td>1.0</td>\n",
       "      <td>...</td>\n",
       "      <td>0.0</td>\n",
       "      <td>1.0</td>\n",
       "      <td>0.0</td>\n",
       "      <td>0.0</td>\n",
       "      <td>1.0</td>\n",
       "      <td>0.0</td>\n",
       "      <td>1.0</td>\n",
       "      <td>0.0</td>\n",
       "      <td>0.0</td>\n",
       "      <td>1.0</td>\n",
       "    </tr>\n",
       "    <tr>\n",
       "      <th>4742</th>\n",
       "      <td>3</td>\n",
       "      <td>2000</td>\n",
       "      <td>3</td>\n",
       "      <td>5</td>\n",
       "      <td>15</td>\n",
       "      <td>6</td>\n",
       "      <td>2</td>\n",
       "      <td>1</td>\n",
       "      <td>4</td>\n",
       "      <td>0.0</td>\n",
       "      <td>...</td>\n",
       "      <td>0.0</td>\n",
       "      <td>1.0</td>\n",
       "      <td>0.0</td>\n",
       "      <td>0.0</td>\n",
       "      <td>1.0</td>\n",
       "      <td>0.0</td>\n",
       "      <td>1.0</td>\n",
       "      <td>0.0</td>\n",
       "      <td>0.0</td>\n",
       "      <td>1.0</td>\n",
       "    </tr>\n",
       "    <tr>\n",
       "      <th>4743</th>\n",
       "      <td>3</td>\n",
       "      <td>1750</td>\n",
       "      <td>3</td>\n",
       "      <td>7</td>\n",
       "      <td>10</td>\n",
       "      <td>6</td>\n",
       "      <td>3</td>\n",
       "      <td>3</td>\n",
       "      <td>5</td>\n",
       "      <td>1.0</td>\n",
       "      <td>...</td>\n",
       "      <td>0.0</td>\n",
       "      <td>1.0</td>\n",
       "      <td>0.0</td>\n",
       "      <td>0.0</td>\n",
       "      <td>1.0</td>\n",
       "      <td>0.0</td>\n",
       "      <td>1.0</td>\n",
       "      <td>0.0</td>\n",
       "      <td>0.0</td>\n",
       "      <td>0.0</td>\n",
       "    </tr>\n",
       "    <tr>\n",
       "      <th>4744</th>\n",
       "      <td>3</td>\n",
       "      <td>1500</td>\n",
       "      <td>2</td>\n",
       "      <td>7</td>\n",
       "      <td>6</td>\n",
       "      <td>2</td>\n",
       "      <td>3</td>\n",
       "      <td>23</td>\n",
       "      <td>34</td>\n",
       "      <td>1.0</td>\n",
       "      <td>...</td>\n",
       "      <td>0.0</td>\n",
       "      <td>1.0</td>\n",
       "      <td>0.0</td>\n",
       "      <td>0.0</td>\n",
       "      <td>1.0</td>\n",
       "      <td>0.0</td>\n",
       "      <td>0.0</td>\n",
       "      <td>1.0</td>\n",
       "      <td>0.0</td>\n",
       "      <td>0.0</td>\n",
       "    </tr>\n",
       "    <tr>\n",
       "      <th>4745</th>\n",
       "      <td>2</td>\n",
       "      <td>1000</td>\n",
       "      <td>2</td>\n",
       "      <td>5</td>\n",
       "      <td>4</td>\n",
       "      <td>2</td>\n",
       "      <td>2</td>\n",
       "      <td>4</td>\n",
       "      <td>5</td>\n",
       "      <td>1.0</td>\n",
       "      <td>...</td>\n",
       "      <td>0.0</td>\n",
       "      <td>1.0</td>\n",
       "      <td>0.0</td>\n",
       "      <td>0.0</td>\n",
       "      <td>0.0</td>\n",
       "      <td>1.0</td>\n",
       "      <td>0.0</td>\n",
       "      <td>0.0</td>\n",
       "      <td>0.0</td>\n",
       "      <td>1.0</td>\n",
       "    </tr>\n",
       "  </tbody>\n",
       "</table>\n",
       "<p>4746 rows × 22 columns</p>\n",
       "</div>"
      ],
      "text/plain": [
       "      BHK  Size  Bathroom  month posted  day posted  day of week posted  \\\n",
       "0       2  1100         2             5          18                   2   \n",
       "1       2   800         1             5          13                   4   \n",
       "2       2  1000         1             5          16                   0   \n",
       "3       2   800         1             7           4                   0   \n",
       "4       2   850         1             5           9                   0   \n",
       "...   ...   ...       ...           ...         ...                 ...   \n",
       "4741    2  1000         2             5          18                   2   \n",
       "4742    3  2000         3             5          15                   6   \n",
       "4743    3  1750         3             7          10                   6   \n",
       "4744    3  1500         2             7           6                   2   \n",
       "4745    2  1000         2             5           4                   2   \n",
       "\n",
       "      quarter poster  Current  Total    0  ...    3    4    5    6    7    8  \\\n",
       "0                  2        0      2  0.0  ...  0.0  0.0  1.0  0.0  0.0  1.0   \n",
       "1                  2        1      3  0.0  ...  0.0  0.0  1.0  0.0  1.0  0.0   \n",
       "2                  2        1      3  0.0  ...  0.0  0.0  1.0  0.0  1.0  0.0   \n",
       "3                  3        1      2  0.0  ...  0.0  0.0  1.0  0.0  0.0  1.0   \n",
       "4                  2        1      2  1.0  ...  0.0  0.0  1.0  0.0  0.0  1.0   \n",
       "...              ...      ...    ...  ...  ...  ...  ...  ...  ...  ...  ...   \n",
       "4741               2        3      5  1.0  ...  0.0  1.0  0.0  0.0  1.0  0.0   \n",
       "4742               2        1      4  0.0  ...  0.0  1.0  0.0  0.0  1.0  0.0   \n",
       "4743               3        3      5  1.0  ...  0.0  1.0  0.0  0.0  1.0  0.0   \n",
       "4744               3       23     34  1.0  ...  0.0  1.0  0.0  0.0  1.0  0.0   \n",
       "4745               2        4      5  1.0  ...  0.0  1.0  0.0  0.0  0.0  1.0   \n",
       "\n",
       "        9   10   11   12  \n",
       "0     1.0  0.0  0.0  1.0  \n",
       "1     1.0  0.0  0.0  1.0  \n",
       "2     1.0  0.0  0.0  1.0  \n",
       "3     1.0  0.0  0.0  1.0  \n",
       "4     0.0  0.0  0.0  1.0  \n",
       "...   ...  ...  ...  ...  \n",
       "4741  1.0  0.0  0.0  1.0  \n",
       "4742  1.0  0.0  0.0  1.0  \n",
       "4743  1.0  0.0  0.0  0.0  \n",
       "4744  0.0  1.0  0.0  0.0  \n",
       "4745  0.0  0.0  0.0  1.0  \n",
       "\n",
       "[4746 rows x 22 columns]"
      ]
     },
     "execution_count": 29,
     "metadata": {},
     "output_type": "execute_result"
    }
   ],
   "source": [
    "X\n"
   ]
  },
  {
   "cell_type": "code",
   "execution_count": 30,
   "id": "5e31f59c",
   "metadata": {},
   "outputs": [
    {
     "data": {
      "text/plain": [
       "0       10000\n",
       "1       20000\n",
       "2       17000\n",
       "3       10000\n",
       "4        7500\n",
       "        ...  \n",
       "4741    15000\n",
       "4742    29000\n",
       "4743    35000\n",
       "4744    45000\n",
       "4745    15000\n",
       "Name: Rent, Length: 4746, dtype: int64"
      ]
     },
     "execution_count": 30,
     "metadata": {},
     "output_type": "execute_result"
    }
   ],
   "source": [
    "\n",
    "y"
   ]
  },
  {
   "cell_type": "markdown",
   "id": "42f1c148",
   "metadata": {},
   "source": [
    "# ASSUMPTIONS OF OLS MODEL"
   ]
  },
  {
   "cell_type": "code",
   "execution_count": 31,
   "id": "978bf13e",
   "metadata": {},
   "outputs": [],
   "source": [
    "import statsmodels.api as sm\n",
    "X=sm.add_constant(X)\n",
    "model=sm.OLS(y,X)"
   ]
  },
  {
   "cell_type": "code",
   "execution_count": 32,
   "id": "46d083b5",
   "metadata": {},
   "outputs": [
    {
     "data": {
      "text/html": [
       "<table class=\"simpletable\">\n",
       "<caption>OLS Regression Results</caption>\n",
       "<tr>\n",
       "  <th>Dep. Variable:</th>          <td>Rent</td>       <th>  R-squared:         </th> <td>   0.324</td> \n",
       "</tr>\n",
       "<tr>\n",
       "  <th>Model:</th>                   <td>OLS</td>       <th>  Adj. R-squared:    </th> <td>   0.320</td> \n",
       "</tr>\n",
       "<tr>\n",
       "  <th>Method:</th>             <td>Least Squares</td>  <th>  F-statistic:       </th> <td>   102.7</td> \n",
       "</tr>\n",
       "<tr>\n",
       "  <th>Date:</th>             <td>Mon, 19 Sep 2022</td> <th>  Prob (F-statistic):</th>  <td>  0.00</td>  \n",
       "</tr>\n",
       "<tr>\n",
       "  <th>Time:</th>                 <td>22:14:32</td>     <th>  Log-Likelihood:    </th> <td> -59274.</td> \n",
       "</tr>\n",
       "<tr>\n",
       "  <th>No. Observations:</th>      <td>  4746</td>      <th>  AIC:               </th> <td>1.186e+05</td>\n",
       "</tr>\n",
       "<tr>\n",
       "  <th>Df Residuals:</th>          <td>  4723</td>      <th>  BIC:               </th> <td>1.187e+05</td>\n",
       "</tr>\n",
       "<tr>\n",
       "  <th>Df Model:</th>              <td>    22</td>      <th>                     </th>     <td> </td>    \n",
       "</tr>\n",
       "<tr>\n",
       "  <th>Covariance Type:</th>      <td>nonrobust</td>    <th>                     </th>     <td> </td>    \n",
       "</tr>\n",
       "</table>\n",
       "<table class=\"simpletable\">\n",
       "<tr>\n",
       "           <td></td>             <th>coef</th>     <th>std err</th>      <th>t</th>      <th>P>|t|</th>  <th>[0.025</th>    <th>0.975]</th>  \n",
       "</tr>\n",
       "<tr>\n",
       "  <th>const</th>              <td> -676.0465</td> <td>  4.7e+04</td> <td>   -0.014</td> <td> 0.989</td> <td>-9.29e+04</td> <td> 9.15e+04</td>\n",
       "</tr>\n",
       "<tr>\n",
       "  <th>BHK</th>                <td> 2318.3700</td> <td> 2025.598</td> <td>    1.145</td> <td> 0.252</td> <td>-1652.747</td> <td> 6289.487</td>\n",
       "</tr>\n",
       "<tr>\n",
       "  <th>Size</th>               <td>   40.1338</td> <td>    2.471</td> <td>   16.239</td> <td> 0.000</td> <td>   35.289</td> <td>   44.979</td>\n",
       "</tr>\n",
       "<tr>\n",
       "  <th>Bathroom</th>           <td> 8994.6215</td> <td> 2106.665</td> <td>    4.270</td> <td> 0.000</td> <td> 4864.576</td> <td> 1.31e+04</td>\n",
       "</tr>\n",
       "<tr>\n",
       "  <th>month posted</th>       <td>  290.1565</td> <td> 1842.242</td> <td>    0.158</td> <td> 0.875</td> <td>-3321.496</td> <td> 3901.809</td>\n",
       "</tr>\n",
       "<tr>\n",
       "  <th>day posted</th>         <td> -221.4790</td> <td>  125.566</td> <td>   -1.764</td> <td> 0.078</td> <td> -467.646</td> <td>   24.688</td>\n",
       "</tr>\n",
       "<tr>\n",
       "  <th>day of week posted</th> <td> -490.1625</td> <td>  519.363</td> <td>   -0.944</td> <td> 0.345</td> <td>-1508.357</td> <td>  528.032</td>\n",
       "</tr>\n",
       "<tr>\n",
       "  <th>quarter poster</th>     <td>-7504.9931</td> <td> 3706.890</td> <td>   -2.025</td> <td> 0.043</td> <td>-1.48e+04</td> <td> -237.761</td>\n",
       "</tr>\n",
       "<tr>\n",
       "  <th>Current</th>            <td>  854.7428</td> <td>  320.014</td> <td>    2.671</td> <td> 0.008</td> <td>  227.366</td> <td> 1482.120</td>\n",
       "</tr>\n",
       "<tr>\n",
       "  <th>Total</th>              <td>  309.5264</td> <td>  210.781</td> <td>    1.468</td> <td> 0.142</td> <td> -103.703</td> <td>  722.755</td>\n",
       "</tr>\n",
       "<tr>\n",
       "  <th>0</th>                  <td>-2964.6254</td> <td> 4.56e+04</td> <td>   -0.065</td> <td> 0.948</td> <td>-9.24e+04</td> <td> 8.65e+04</td>\n",
       "</tr>\n",
       "<tr>\n",
       "  <th>1</th>                  <td>-6688.9367</td> <td> 4.56e+04</td> <td>   -0.147</td> <td> 0.883</td> <td>-9.61e+04</td> <td> 8.27e+04</td>\n",
       "</tr>\n",
       "<tr>\n",
       "  <th>2</th>                  <td>-5494.7965</td> <td> 3128.282</td> <td>   -1.756</td> <td> 0.079</td> <td>-1.16e+04</td> <td>  638.095</td>\n",
       "</tr>\n",
       "<tr>\n",
       "  <th>3</th>                  <td> 9433.0600</td> <td> 3564.628</td> <td>    2.646</td> <td> 0.008</td> <td> 2444.727</td> <td> 1.64e+04</td>\n",
       "</tr>\n",
       "<tr>\n",
       "  <th>4</th>                  <td> -1.52e+04</td> <td> 3183.705</td> <td>   -4.774</td> <td> 0.000</td> <td>-2.14e+04</td> <td>-8958.481</td>\n",
       "</tr>\n",
       "<tr>\n",
       "  <th>5</th>                  <td> -895.2626</td> <td> 3742.111</td> <td>   -0.239</td> <td> 0.811</td> <td>-8231.546</td> <td> 6441.021</td>\n",
       "</tr>\n",
       "<tr>\n",
       "  <th>6</th>                  <td>  4.34e+04</td> <td> 3830.019</td> <td>   11.331</td> <td> 0.000</td> <td> 3.59e+04</td> <td> 5.09e+04</td>\n",
       "</tr>\n",
       "<tr>\n",
       "  <th>7</th>                  <td>-8492.2187</td> <td> 2872.468</td> <td>   -2.956</td> <td> 0.003</td> <td>-1.41e+04</td> <td>-2860.842</td>\n",
       "</tr>\n",
       "<tr>\n",
       "  <th>8</th>                  <td>-7971.7513</td> <td> 2977.134</td> <td>   -2.678</td> <td> 0.007</td> <td>-1.38e+04</td> <td>-2135.180</td>\n",
       "</tr>\n",
       "<tr>\n",
       "  <th>9</th>                  <td>  930.1658</td> <td> 2715.662</td> <td>    0.343</td> <td> 0.732</td> <td>-4393.799</td> <td> 6254.131</td>\n",
       "</tr>\n",
       "<tr>\n",
       "  <th>10</th>                 <td>-8843.3104</td> <td> 3833.992</td> <td>   -2.307</td> <td> 0.021</td> <td>-1.64e+04</td> <td>-1326.898</td>\n",
       "</tr>\n",
       "<tr>\n",
       "  <th>11</th>                 <td> 2.597e+04</td> <td> 6.46e+04</td> <td>    0.402</td> <td> 0.687</td> <td>-1.01e+05</td> <td> 1.53e+05</td>\n",
       "</tr>\n",
       "<tr>\n",
       "  <th>12</th>                 <td>-7435.6571</td> <td> 2929.795</td> <td>   -2.538</td> <td> 0.011</td> <td>-1.32e+04</td> <td>-1691.893</td>\n",
       "</tr>\n",
       "</table>\n",
       "<table class=\"simpletable\">\n",
       "<tr>\n",
       "  <th>Omnibus:</th>       <td>12893.978</td> <th>  Durbin-Watson:     </th>   <td>   2.001</td>   \n",
       "</tr>\n",
       "<tr>\n",
       "  <th>Prob(Omnibus):</th>  <td> 0.000</td>   <th>  Jarque-Bera (JB):  </th> <td>540664081.600</td>\n",
       "</tr>\n",
       "<tr>\n",
       "  <th>Skew:</th>           <td>33.029</td>   <th>  Prob(JB):          </th>   <td>    0.00</td>   \n",
       "</tr>\n",
       "<tr>\n",
       "  <th>Kurtosis:</th>      <td>1655.185</td>  <th>  Cond. No.          </th>   <td>9.81e+04</td>   \n",
       "</tr>\n",
       "</table><br/><br/>Notes:<br/>[1] Standard Errors assume that the covariance matrix of the errors is correctly specified.<br/>[2] The condition number is large, 9.81e+04. This might indicate that there are<br/>strong multicollinearity or other numerical problems."
      ],
      "text/plain": [
       "<class 'statsmodels.iolib.summary.Summary'>\n",
       "\"\"\"\n",
       "                            OLS Regression Results                            \n",
       "==============================================================================\n",
       "Dep. Variable:                   Rent   R-squared:                       0.324\n",
       "Model:                            OLS   Adj. R-squared:                  0.320\n",
       "Method:                 Least Squares   F-statistic:                     102.7\n",
       "Date:                Mon, 19 Sep 2022   Prob (F-statistic):               0.00\n",
       "Time:                        22:14:32   Log-Likelihood:                -59274.\n",
       "No. Observations:                4746   AIC:                         1.186e+05\n",
       "Df Residuals:                    4723   BIC:                         1.187e+05\n",
       "Df Model:                          22                                         \n",
       "Covariance Type:            nonrobust                                         \n",
       "======================================================================================\n",
       "                         coef    std err          t      P>|t|      [0.025      0.975]\n",
       "--------------------------------------------------------------------------------------\n",
       "const               -676.0465    4.7e+04     -0.014      0.989   -9.29e+04    9.15e+04\n",
       "BHK                 2318.3700   2025.598      1.145      0.252   -1652.747    6289.487\n",
       "Size                  40.1338      2.471     16.239      0.000      35.289      44.979\n",
       "Bathroom            8994.6215   2106.665      4.270      0.000    4864.576    1.31e+04\n",
       "month posted         290.1565   1842.242      0.158      0.875   -3321.496    3901.809\n",
       "day posted          -221.4790    125.566     -1.764      0.078    -467.646      24.688\n",
       "day of week posted  -490.1625    519.363     -0.944      0.345   -1508.357     528.032\n",
       "quarter poster     -7504.9931   3706.890     -2.025      0.043   -1.48e+04    -237.761\n",
       "Current              854.7428    320.014      2.671      0.008     227.366    1482.120\n",
       "Total                309.5264    210.781      1.468      0.142    -103.703     722.755\n",
       "0                  -2964.6254   4.56e+04     -0.065      0.948   -9.24e+04    8.65e+04\n",
       "1                  -6688.9367   4.56e+04     -0.147      0.883   -9.61e+04    8.27e+04\n",
       "2                  -5494.7965   3128.282     -1.756      0.079   -1.16e+04     638.095\n",
       "3                   9433.0600   3564.628      2.646      0.008    2444.727    1.64e+04\n",
       "4                   -1.52e+04   3183.705     -4.774      0.000   -2.14e+04   -8958.481\n",
       "5                   -895.2626   3742.111     -0.239      0.811   -8231.546    6441.021\n",
       "6                    4.34e+04   3830.019     11.331      0.000    3.59e+04    5.09e+04\n",
       "7                  -8492.2187   2872.468     -2.956      0.003   -1.41e+04   -2860.842\n",
       "8                  -7971.7513   2977.134     -2.678      0.007   -1.38e+04   -2135.180\n",
       "9                    930.1658   2715.662      0.343      0.732   -4393.799    6254.131\n",
       "10                 -8843.3104   3833.992     -2.307      0.021   -1.64e+04   -1326.898\n",
       "11                  2.597e+04   6.46e+04      0.402      0.687   -1.01e+05    1.53e+05\n",
       "12                 -7435.6571   2929.795     -2.538      0.011   -1.32e+04   -1691.893\n",
       "==============================================================================\n",
       "Omnibus:                    12893.978   Durbin-Watson:                   2.001\n",
       "Prob(Omnibus):                  0.000   Jarque-Bera (JB):        540664081.600\n",
       "Skew:                          33.029   Prob(JB):                         0.00\n",
       "Kurtosis:                    1655.185   Cond. No.                     9.81e+04\n",
       "==============================================================================\n",
       "\n",
       "Notes:\n",
       "[1] Standard Errors assume that the covariance matrix of the errors is correctly specified.\n",
       "[2] The condition number is large, 9.81e+04. This might indicate that there are\n",
       "strong multicollinearity or other numerical problems.\n",
       "\"\"\""
      ]
     },
     "execution_count": 32,
     "metadata": {},
     "output_type": "execute_result"
    }
   ],
   "source": [
    "result=model.fit()\n",
    "result.summary()"
   ]
  },
  {
   "cell_type": "code",
   "execution_count": 33,
   "id": "9e3e7eff",
   "metadata": {},
   "outputs": [
    {
     "data": {
      "image/png": "[encoded data removed]",
      "text/plain": [
       "<Figure size 432x288 with 1 Axes>"
      ]
     },
     "metadata": {
      "needs_background": "light"
     },
     "output_type": "display_data"
    },
    {
     "data": {
      "image/png": "[encoded data removed]",
      "text/plain": [
       "<Figure size 432x288 with 1 Axes>"
      ]
     },
     "metadata": {
      "needs_background": "light"
     },
     "output_type": "display_data"
    },
    {
     "data": {
      "image/png": "[encoded data removed]",
      "text/plain": [
       "<Figure size 432x288 with 1 Axes>"
      ]
     },
     "metadata": {
      "needs_background": "light"
     },
     "output_type": "display_data"
    }
   ],
   "source": [
    "#checking linearity assumption\n",
    "tyui=[\"Size\",\"Total\",\"Current\"]\n",
    "for col in tyui:\n",
    "    plt.scatter(X[col],y)\n",
    "    plt.show()\n"
   ]
  },
  {
   "cell_type": "code",
   "execution_count": 34,
   "id": "67fe77d0",
   "metadata": {},
   "outputs": [
    {
     "data": {
      "text/plain": [
       "{'BHK': 3.2527123973259404,\n",
       " 'Size': 2.8116883545417273,\n",
       " 'Bathroom': 3.9741398699300845,\n",
       " 'month posted': 2.6915950029818054,\n",
       " 'day posted': 1.510368947709002,\n",
       " 'day of week posted': 1.0360904823993486,\n",
       " 'quarter poster': 2.5735377476923764,\n",
       " 'Current': 3.907595531033066,\n",
       " 'Total': 4.557592483885006,\n",
       " 0: 595.5530160153678,\n",
       " 1: 594.5465694955338,\n",
       " 2: 1.7083438803389606,\n",
       " 3: 1.6178956073945416,\n",
       " 4: 1.7340227047236874,\n",
       " 5: 1.5745063533715398,\n",
       " 6: 2.7348376264652794,\n",
       " 7: 2.3551464454516395,\n",
       " 8: 2.396352934537101,\n",
       " 9: 1.6806882069460487,\n",
       " 10: 1.507094122795166,\n",
       " 11: 1.0048328224994878,\n",
       " 12: 2.1465616126590628}"
      ]
     },
     "execution_count": 34,
     "metadata": {},
     "output_type": "execute_result"
    }
   ],
   "source": [
    "from statsmodels.stats.outliers_influence import variance_inflation_factor\n",
    "{X.columns[i]: variance_inflation_factor(X.values,i) for i in range(1,X.shape[1])}"
   ]
  },
  {
   "cell_type": "code",
   "execution_count": 35,
   "id": "82e54ce5",
   "metadata": {},
   "outputs": [
    {
     "data": {
      "text/plain": [
       "<matplotlib.collections.PathCollection at 0x266dc0b1340>"
      ]
     },
     "execution_count": 35,
     "metadata": {},
     "output_type": "execute_result"
    },
    {
     "data": {
      "image/png": "[encoded data removed]",
      "text/plain": [
       "<Figure size 432x288 with 1 Axes>"
      ]
     },
     "metadata": {
      "needs_background": "light"
     },
     "output_type": "display_data"
    }
   ],
   "source": [
    "#heteroscedaticity\n",
    "resuduals=result.resid\n",
    "plt.scatter(y,resuduals)"
   ]
  },
  {
   "cell_type": "code",
   "execution_count": 36,
   "id": "c5d130cb",
   "metadata": {},
   "outputs": [
    {
     "data": {
      "text/plain": [
       "<matplotlib.collections.PathCollection at 0x266dc040640>"
      ]
     },
     "execution_count": 36,
     "metadata": {},
     "output_type": "execute_result"
    },
    {
     "data": {
      "image/png": "[encoded data removed]",
      "text/plain": [
       "<Figure size 432x288 with 1 Axes>"
      ]
     },
     "metadata": {
      "needs_background": "light"
     },
     "output_type": "display_data"
    }
   ],
   "source": [
    "#removing heteroscedasticity using log\n",
    "resuduals=result.resid\n",
    "plt.scatter(np.log1p(y),resuduals)"
   ]
  },
  {
   "cell_type": "code",
   "execution_count": 37,
   "id": "ad7a0704",
   "metadata": {},
   "outputs": [
    {
     "data": {
      "text/plain": [
       "[<matplotlib.lines.Line2D at 0x266d925d6a0>]"
      ]
     },
     "execution_count": 37,
     "metadata": {},
     "output_type": "execute_result"
    },
    {
     "data": {
      "image/png": "[encoded data removed]",
      "text/plain": [
       "<Figure size 432x288 with 1 Axes>"
      ]
     },
     "metadata": {
      "needs_background": "light"
     },
     "output_type": "display_data"
    }
   ],
   "source": [
    "# checking Auto correlation\n",
    "\n",
    "plt.plot(resuduals.index,resuduals)"
   ]
  },
  {
   "cell_type": "code",
   "execution_count": 38,
   "id": "03cf2ea8",
   "metadata": {},
   "outputs": [
    {
     "data": {
      "image/png": "[encoded data removed]",
      "text/plain": [
       "<Figure size 360x360 with 1 Axes>"
      ]
     },
     "metadata": {
      "needs_background": "light"
     },
     "output_type": "display_data"
    }
   ],
   "source": [
    "# checking the normality assumption without using log_scale\n",
    "import seaborn as sns \n",
    "\n",
    "sns.displot(resuduals)\n",
    "\n",
    "plt.show()"
   ]
  },
  {
   "cell_type": "code",
   "execution_count": 39,
   "id": "85147e1b",
   "metadata": {},
   "outputs": [
    {
     "data": {
      "image/png": "[encoded data removed]",
      "text/plain": [
       "<Figure size 432x288 with 1 Axes>"
      ]
     },
     "metadata": {
      "needs_background": "light"
     },
     "output_type": "display_data"
    },
    {
     "data": {
      "image/png": "[encoded data removed]",
      "text/plain": [
       "<Figure size 432x288 with 1 Axes>"
      ]
     },
     "metadata": {
      "needs_background": "light"
     },
     "output_type": "display_data"
    },
    {
     "data": {
      "image/png": "[encoded data removed]",
      "text/plain": [
       "<Figure size 432x288 with 1 Axes>"
      ]
     },
     "metadata": {
      "needs_background": "light"
     },
     "output_type": "display_data"
    }
   ],
   "source": [
    "#residual relation with independent variable\n",
    "for col in tyui:\n",
    "    plt.scatter(X[col],resuduals)\n",
    "    plt.show()\n"
   ]
  },
  {
   "cell_type": "code",
   "execution_count": 40,
   "id": "b0377c7d",
   "metadata": {},
   "outputs": [],
   "source": [
    "#checking assumptions after transformation taking log\n",
    "y=np.log(y)"
   ]
  },
  {
   "cell_type": "code",
   "execution_count": 41,
   "id": "c71f4a56",
   "metadata": {},
   "outputs": [],
   "source": [
    "X=sm.add_constant(X)\n",
    "model=sm.OLS(y,X)"
   ]
  },
  {
   "cell_type": "code",
   "execution_count": 42,
   "id": "42a48d46",
   "metadata": {},
   "outputs": [
    {
     "data": {
      "text/html": [
       "<table class=\"simpletable\">\n",
       "<caption>OLS Regression Results</caption>\n",
       "<tr>\n",
       "  <th>Dep. Variable:</th>          <td>Rent</td>       <th>  R-squared:         </th> <td>   0.816</td>\n",
       "</tr>\n",
       "<tr>\n",
       "  <th>Model:</th>                   <td>OLS</td>       <th>  Adj. R-squared:    </th> <td>   0.815</td>\n",
       "</tr>\n",
       "<tr>\n",
       "  <th>Method:</th>             <td>Least Squares</td>  <th>  F-statistic:       </th> <td>   949.8</td>\n",
       "</tr>\n",
       "<tr>\n",
       "  <th>Date:</th>             <td>Mon, 19 Sep 2022</td> <th>  Prob (F-statistic):</th>  <td>  0.00</td> \n",
       "</tr>\n",
       "<tr>\n",
       "  <th>Time:</th>                 <td>22:14:41</td>     <th>  Log-Likelihood:    </th> <td> -2410.6</td>\n",
       "</tr>\n",
       "<tr>\n",
       "  <th>No. Observations:</th>      <td>  4746</td>      <th>  AIC:               </th> <td>   4867.</td>\n",
       "</tr>\n",
       "<tr>\n",
       "  <th>Df Residuals:</th>          <td>  4723</td>      <th>  BIC:               </th> <td>   5016.</td>\n",
       "</tr>\n",
       "<tr>\n",
       "  <th>Df Model:</th>              <td>    22</td>      <th>                     </th>     <td> </td>   \n",
       "</tr>\n",
       "<tr>\n",
       "  <th>Covariance Type:</th>      <td>nonrobust</td>    <th>                     </th>     <td> </td>   \n",
       "</tr>\n",
       "</table>\n",
       "<table class=\"simpletable\">\n",
       "<tr>\n",
       "           <td></td>             <th>coef</th>     <th>std err</th>      <th>t</th>      <th>P>|t|</th>  <th>[0.025</th>    <th>0.975]</th>  \n",
       "</tr>\n",
       "<tr>\n",
       "  <th>const</th>              <td>    8.8855</td> <td>    0.294</td> <td>   30.181</td> <td> 0.000</td> <td>    8.308</td> <td>    9.463</td>\n",
       "</tr>\n",
       "<tr>\n",
       "  <th>BHK</th>                <td>    0.2276</td> <td>    0.013</td> <td>   17.945</td> <td> 0.000</td> <td>    0.203</td> <td>    0.252</td>\n",
       "</tr>\n",
       "<tr>\n",
       "  <th>Size</th>               <td>    0.0004</td> <td> 1.55e-05</td> <td>   26.783</td> <td> 0.000</td> <td>    0.000</td> <td>    0.000</td>\n",
       "</tr>\n",
       "<tr>\n",
       "  <th>Bathroom</th>           <td>    0.1502</td> <td>    0.013</td> <td>   11.387</td> <td> 0.000</td> <td>    0.124</td> <td>    0.176</td>\n",
       "</tr>\n",
       "<tr>\n",
       "  <th>month posted</th>       <td>   -0.0088</td> <td>    0.012</td> <td>   -0.767</td> <td> 0.443</td> <td>   -0.031</td> <td>    0.014</td>\n",
       "</tr>\n",
       "<tr>\n",
       "  <th>day posted</th>         <td>   -0.0011</td> <td>    0.001</td> <td>   -1.458</td> <td> 0.145</td> <td>   -0.003</td> <td>    0.000</td>\n",
       "</tr>\n",
       "<tr>\n",
       "  <th>day of week posted</th> <td>    0.0029</td> <td>    0.003</td> <td>    0.893</td> <td> 0.372</td> <td>   -0.003</td> <td>    0.009</td>\n",
       "</tr>\n",
       "<tr>\n",
       "  <th>quarter poster</th>     <td>    0.0384</td> <td>    0.023</td> <td>    1.654</td> <td> 0.098</td> <td>   -0.007</td> <td>    0.084</td>\n",
       "</tr>\n",
       "<tr>\n",
       "  <th>Current</th>            <td>    0.0038</td> <td>    0.002</td> <td>    1.877</td> <td> 0.061</td> <td>   -0.000</td> <td>    0.008</td>\n",
       "</tr>\n",
       "<tr>\n",
       "  <th>Total</th>              <td>    0.0044</td> <td>    0.001</td> <td>    3.297</td> <td> 0.001</td> <td>    0.002</td> <td>    0.007</td>\n",
       "</tr>\n",
       "<tr>\n",
       "  <th>0</th>                  <td>    0.1237</td> <td>    0.286</td> <td>    0.433</td> <td> 0.665</td> <td>   -0.436</td> <td>    0.684</td>\n",
       "</tr>\n",
       "<tr>\n",
       "  <th>1</th>                  <td>    0.0849</td> <td>    0.285</td> <td>    0.297</td> <td> 0.766</td> <td>   -0.475</td> <td>    0.645</td>\n",
       "</tr>\n",
       "<tr>\n",
       "  <th>2</th>                  <td>   -0.0413</td> <td>    0.020</td> <td>   -2.107</td> <td> 0.035</td> <td>   -0.080</td> <td>   -0.003</td>\n",
       "</tr>\n",
       "<tr>\n",
       "  <th>3</th>                  <td>    0.1768</td> <td>    0.022</td> <td>    7.922</td> <td> 0.000</td> <td>    0.133</td> <td>    0.221</td>\n",
       "</tr>\n",
       "<tr>\n",
       "  <th>4</th>                  <td>   -0.1614</td> <td>    0.020</td> <td>   -8.100</td> <td> 0.000</td> <td>   -0.201</td> <td>   -0.122</td>\n",
       "</tr>\n",
       "<tr>\n",
       "  <th>5</th>                  <td>   -0.2976</td> <td>    0.023</td> <td>  -12.704</td> <td> 0.000</td> <td>   -0.344</td> <td>   -0.252</td>\n",
       "</tr>\n",
       "<tr>\n",
       "  <th>6</th>                  <td>    0.8970</td> <td>    0.024</td> <td>   37.408</td> <td> 0.000</td> <td>    0.850</td> <td>    0.944</td>\n",
       "</tr>\n",
       "<tr>\n",
       "  <th>7</th>                  <td>   -0.1946</td> <td>    0.018</td> <td>  -10.822</td> <td> 0.000</td> <td>   -0.230</td> <td>   -0.159</td>\n",
       "</tr>\n",
       "<tr>\n",
       "  <th>8</th>                  <td>   -0.2940</td> <td>    0.019</td> <td>  -15.775</td> <td> 0.000</td> <td>   -0.331</td> <td>   -0.257</td>\n",
       "</tr>\n",
       "<tr>\n",
       "  <th>9</th>                  <td>   -0.0473</td> <td>    0.017</td> <td>   -2.783</td> <td> 0.005</td> <td>   -0.081</td> <td>   -0.014</td>\n",
       "</tr>\n",
       "<tr>\n",
       "  <th>10</th>                 <td>   -0.1221</td> <td>    0.024</td> <td>   -5.089</td> <td> 0.000</td> <td>   -0.169</td> <td>   -0.075</td>\n",
       "</tr>\n",
       "<tr>\n",
       "  <th>11</th>                 <td>   -0.4287</td> <td>    0.404</td> <td>   -1.061</td> <td> 0.289</td> <td>   -1.221</td> <td>    0.364</td>\n",
       "</tr>\n",
       "<tr>\n",
       "  <th>12</th>                 <td>   -0.3453</td> <td>    0.018</td> <td>  -18.825</td> <td> 0.000</td> <td>   -0.381</td> <td>   -0.309</td>\n",
       "</tr>\n",
       "</table>\n",
       "<table class=\"simpletable\">\n",
       "<tr>\n",
       "  <th>Omnibus:</th>       <td>843.185</td> <th>  Durbin-Watson:     </th> <td>   1.949</td>\n",
       "</tr>\n",
       "<tr>\n",
       "  <th>Prob(Omnibus):</th> <td> 0.000</td>  <th>  Jarque-Bera (JB):  </th> <td>9688.358</td>\n",
       "</tr>\n",
       "<tr>\n",
       "  <th>Skew:</th>          <td> 0.498</td>  <th>  Prob(JB):          </th> <td>    0.00</td>\n",
       "</tr>\n",
       "<tr>\n",
       "  <th>Kurtosis:</th>      <td> 9.928</td>  <th>  Cond. No.          </th> <td>9.81e+04</td>\n",
       "</tr>\n",
       "</table><br/><br/>Notes:<br/>[1] Standard Errors assume that the covariance matrix of the errors is correctly specified.<br/>[2] The condition number is large, 9.81e+04. This might indicate that there are<br/>strong multicollinearity or other numerical problems."
      ],
      "text/plain": [
       "<class 'statsmodels.iolib.summary.Summary'>\n",
       "\"\"\"\n",
       "                            OLS Regression Results                            \n",
       "==============================================================================\n",
       "Dep. Variable:                   Rent   R-squared:                       0.816\n",
       "Model:                            OLS   Adj. R-squared:                  0.815\n",
       "Method:                 Least Squares   F-statistic:                     949.8\n",
       "Date:                Mon, 19 Sep 2022   Prob (F-statistic):               0.00\n",
       "Time:                        22:14:41   Log-Likelihood:                -2410.6\n",
       "No. Observations:                4746   AIC:                             4867.\n",
       "Df Residuals:                    4723   BIC:                             5016.\n",
       "Df Model:                          22                                         \n",
       "Covariance Type:            nonrobust                                         \n",
       "======================================================================================\n",
       "                         coef    std err          t      P>|t|      [0.025      0.975]\n",
       "--------------------------------------------------------------------------------------\n",
       "const                  8.8855      0.294     30.181      0.000       8.308       9.463\n",
       "BHK                    0.2276      0.013     17.945      0.000       0.203       0.252\n",
       "Size                   0.0004   1.55e-05     26.783      0.000       0.000       0.000\n",
       "Bathroom               0.1502      0.013     11.387      0.000       0.124       0.176\n",
       "month posted          -0.0088      0.012     -0.767      0.443      -0.031       0.014\n",
       "day posted            -0.0011      0.001     -1.458      0.145      -0.003       0.000\n",
       "day of week posted     0.0029      0.003      0.893      0.372      -0.003       0.009\n",
       "quarter poster         0.0384      0.023      1.654      0.098      -0.007       0.084\n",
       "Current                0.0038      0.002      1.877      0.061      -0.000       0.008\n",
       "Total                  0.0044      0.001      3.297      0.001       0.002       0.007\n",
       "0                      0.1237      0.286      0.433      0.665      -0.436       0.684\n",
       "1                      0.0849      0.285      0.297      0.766      -0.475       0.645\n",
       "2                     -0.0413      0.020     -2.107      0.035      -0.080      -0.003\n",
       "3                      0.1768      0.022      7.922      0.000       0.133       0.221\n",
       "4                     -0.1614      0.020     -8.100      0.000      -0.201      -0.122\n",
       "5                     -0.2976      0.023    -12.704      0.000      -0.344      -0.252\n",
       "6                      0.8970      0.024     37.408      0.000       0.850       0.944\n",
       "7                     -0.1946      0.018    -10.822      0.000      -0.230      -0.159\n",
       "8                     -0.2940      0.019    -15.775      0.000      -0.331      -0.257\n",
       "9                     -0.0473      0.017     -2.783      0.005      -0.081      -0.014\n",
       "10                    -0.1221      0.024     -5.089      0.000      -0.169      -0.075\n",
       "11                    -0.4287      0.404     -1.061      0.289      -1.221       0.364\n",
       "12                    -0.3453      0.018    -18.825      0.000      -0.381      -0.309\n",
       "==============================================================================\n",
       "Omnibus:                      843.185   Durbin-Watson:                   1.949\n",
       "Prob(Omnibus):                  0.000   Jarque-Bera (JB):             9688.358\n",
       "Skew:                           0.498   Prob(JB):                         0.00\n",
       "Kurtosis:                       9.928   Cond. No.                     9.81e+04\n",
       "==============================================================================\n",
       "\n",
       "Notes:\n",
       "[1] Standard Errors assume that the covariance matrix of the errors is correctly specified.\n",
       "[2] The condition number is large, 9.81e+04. This might indicate that there are\n",
       "strong multicollinearity or other numerical problems.\n",
       "\"\"\""
      ]
     },
     "execution_count": 42,
     "metadata": {},
     "output_type": "execute_result"
    }
   ],
   "source": [
    "result=model.fit()\n",
    "result.summary()"
   ]
  },
  {
   "cell_type": "code",
   "execution_count": 43,
   "id": "1adeb352",
   "metadata": {},
   "outputs": [
    {
     "data": {
      "image/png": "[encoded data removed]",
      "text/plain": [
       "<Figure size 432x288 with 1 Axes>"
      ]
     },
     "metadata": {
      "needs_background": "light"
     },
     "output_type": "display_data"
    },
    {
     "data": {
      "image/png": "[encoded data removed]",
      "text/plain": [
       "<Figure size 432x288 with 1 Axes>"
      ]
     },
     "metadata": {
      "needs_background": "light"
     },
     "output_type": "display_data"
    },
    {
     "data": {
      "image/png": "[encoded data removed]",
      "text/plain": [
       "<Figure size 432x288 with 1 Axes>"
      ]
     },
     "metadata": {
      "needs_background": "light"
     },
     "output_type": "display_data"
    }
   ],
   "source": [
    "#checking linearity assumption\n",
    "tyui=[\"Size\",\"Total\",\"Current\"]\n",
    "for col in tyui:\n",
    "    plt.scatter(X[col],y)\n",
    "    plt.show()"
   ]
  },
  {
   "cell_type": "code",
   "execution_count": 44,
   "id": "34c07c3f",
   "metadata": {},
   "outputs": [
    {
     "data": {
      "text/plain": [
       "{'BHK': 3.2527123973259404,\n",
       " 'Size': 2.8116883545417273,\n",
       " 'Bathroom': 3.9741398699300845,\n",
       " 'month posted': 2.6915950029818054,\n",
       " 'day posted': 1.510368947709002,\n",
       " 'day of week posted': 1.0360904823993486,\n",
       " 'quarter poster': 2.5735377476923764,\n",
       " 'Current': 3.907595531033066,\n",
       " 'Total': 4.557592483885006,\n",
       " 0: 595.5530160153678,\n",
       " 1: 594.5465694955338,\n",
       " 2: 1.7083438803389606,\n",
       " 3: 1.6178956073945416,\n",
       " 4: 1.7340227047236874,\n",
       " 5: 1.5745063533715398,\n",
       " 6: 2.7348376264652794,\n",
       " 7: 2.3551464454516395,\n",
       " 8: 2.396352934537101,\n",
       " 9: 1.6806882069460487,\n",
       " 10: 1.507094122795166,\n",
       " 11: 1.0048328224994878,\n",
       " 12: 2.1465616126590628}"
      ]
     },
     "execution_count": 44,
     "metadata": {},
     "output_type": "execute_result"
    }
   ],
   "source": [
    "from statsmodels.stats.outliers_influence import variance_inflation_factor\n",
    "{X.columns[i]: variance_inflation_factor(X.values,i) for i in range(1,X.shape[1])}"
   ]
  },
  {
   "cell_type": "code",
   "execution_count": 45,
   "id": "ad1a73a7",
   "metadata": {},
   "outputs": [],
   "source": [
    "X=X.drop([0,1],axis=1)"
   ]
  },
  {
   "cell_type": "code",
   "execution_count": 46,
   "id": "0dec0a3c",
   "metadata": {},
   "outputs": [
    {
     "data": {
      "text/html": [
       "<div>\n",
       "<style scoped>\n",
       "    .dataframe tbody tr th:only-of-type {\n",
       "        vertical-align: middle;\n",
       "    }\n",
       "\n",
       "    .dataframe tbody tr th {\n",
       "        vertical-align: top;\n",
       "    }\n",
       "\n",
       "    .dataframe thead th {\n",
       "        text-align: right;\n",
       "    }\n",
       "</style>\n",
       "<table border=\"1\" class=\"dataframe\">\n",
       "  <thead>\n",
       "    <tr style=\"text-align: right;\">\n",
       "      <th></th>\n",
       "      <th>const</th>\n",
       "      <th>BHK</th>\n",
       "      <th>Size</th>\n",
       "      <th>Bathroom</th>\n",
       "      <th>month posted</th>\n",
       "      <th>day posted</th>\n",
       "      <th>day of week posted</th>\n",
       "      <th>quarter poster</th>\n",
       "      <th>Current</th>\n",
       "      <th>Total</th>\n",
       "      <th>...</th>\n",
       "      <th>3</th>\n",
       "      <th>4</th>\n",
       "      <th>5</th>\n",
       "      <th>6</th>\n",
       "      <th>7</th>\n",
       "      <th>8</th>\n",
       "      <th>9</th>\n",
       "      <th>10</th>\n",
       "      <th>11</th>\n",
       "      <th>12</th>\n",
       "    </tr>\n",
       "  </thead>\n",
       "  <tbody>\n",
       "    <tr>\n",
       "      <th>0</th>\n",
       "      <td>1.0</td>\n",
       "      <td>2</td>\n",
       "      <td>1100</td>\n",
       "      <td>2</td>\n",
       "      <td>5</td>\n",
       "      <td>18</td>\n",
       "      <td>2</td>\n",
       "      <td>2</td>\n",
       "      <td>0</td>\n",
       "      <td>2</td>\n",
       "      <td>...</td>\n",
       "      <td>0.0</td>\n",
       "      <td>0.0</td>\n",
       "      <td>1.0</td>\n",
       "      <td>0.0</td>\n",
       "      <td>0.0</td>\n",
       "      <td>1.0</td>\n",
       "      <td>1.0</td>\n",
       "      <td>0.0</td>\n",
       "      <td>0.0</td>\n",
       "      <td>1.0</td>\n",
       "    </tr>\n",
       "    <tr>\n",
       "      <th>1</th>\n",
       "      <td>1.0</td>\n",
       "      <td>2</td>\n",
       "      <td>800</td>\n",
       "      <td>1</td>\n",
       "      <td>5</td>\n",
       "      <td>13</td>\n",
       "      <td>4</td>\n",
       "      <td>2</td>\n",
       "      <td>1</td>\n",
       "      <td>3</td>\n",
       "      <td>...</td>\n",
       "      <td>0.0</td>\n",
       "      <td>0.0</td>\n",
       "      <td>1.0</td>\n",
       "      <td>0.0</td>\n",
       "      <td>1.0</td>\n",
       "      <td>0.0</td>\n",
       "      <td>1.0</td>\n",
       "      <td>0.0</td>\n",
       "      <td>0.0</td>\n",
       "      <td>1.0</td>\n",
       "    </tr>\n",
       "    <tr>\n",
       "      <th>2</th>\n",
       "      <td>1.0</td>\n",
       "      <td>2</td>\n",
       "      <td>1000</td>\n",
       "      <td>1</td>\n",
       "      <td>5</td>\n",
       "      <td>16</td>\n",
       "      <td>0</td>\n",
       "      <td>2</td>\n",
       "      <td>1</td>\n",
       "      <td>3</td>\n",
       "      <td>...</td>\n",
       "      <td>0.0</td>\n",
       "      <td>0.0</td>\n",
       "      <td>1.0</td>\n",
       "      <td>0.0</td>\n",
       "      <td>1.0</td>\n",
       "      <td>0.0</td>\n",
       "      <td>1.0</td>\n",
       "      <td>0.0</td>\n",
       "      <td>0.0</td>\n",
       "      <td>1.0</td>\n",
       "    </tr>\n",
       "    <tr>\n",
       "      <th>3</th>\n",
       "      <td>1.0</td>\n",
       "      <td>2</td>\n",
       "      <td>800</td>\n",
       "      <td>1</td>\n",
       "      <td>7</td>\n",
       "      <td>4</td>\n",
       "      <td>0</td>\n",
       "      <td>3</td>\n",
       "      <td>1</td>\n",
       "      <td>2</td>\n",
       "      <td>...</td>\n",
       "      <td>0.0</td>\n",
       "      <td>0.0</td>\n",
       "      <td>1.0</td>\n",
       "      <td>0.0</td>\n",
       "      <td>0.0</td>\n",
       "      <td>1.0</td>\n",
       "      <td>1.0</td>\n",
       "      <td>0.0</td>\n",
       "      <td>0.0</td>\n",
       "      <td>1.0</td>\n",
       "    </tr>\n",
       "    <tr>\n",
       "      <th>4</th>\n",
       "      <td>1.0</td>\n",
       "      <td>2</td>\n",
       "      <td>850</td>\n",
       "      <td>1</td>\n",
       "      <td>5</td>\n",
       "      <td>9</td>\n",
       "      <td>0</td>\n",
       "      <td>2</td>\n",
       "      <td>1</td>\n",
       "      <td>2</td>\n",
       "      <td>...</td>\n",
       "      <td>0.0</td>\n",
       "      <td>0.0</td>\n",
       "      <td>1.0</td>\n",
       "      <td>0.0</td>\n",
       "      <td>0.0</td>\n",
       "      <td>1.0</td>\n",
       "      <td>0.0</td>\n",
       "      <td>0.0</td>\n",
       "      <td>0.0</td>\n",
       "      <td>1.0</td>\n",
       "    </tr>\n",
       "    <tr>\n",
       "      <th>...</th>\n",
       "      <td>...</td>\n",
       "      <td>...</td>\n",
       "      <td>...</td>\n",
       "      <td>...</td>\n",
       "      <td>...</td>\n",
       "      <td>...</td>\n",
       "      <td>...</td>\n",
       "      <td>...</td>\n",
       "      <td>...</td>\n",
       "      <td>...</td>\n",
       "      <td>...</td>\n",
       "      <td>...</td>\n",
       "      <td>...</td>\n",
       "      <td>...</td>\n",
       "      <td>...</td>\n",
       "      <td>...</td>\n",
       "      <td>...</td>\n",
       "      <td>...</td>\n",
       "      <td>...</td>\n",
       "      <td>...</td>\n",
       "      <td>...</td>\n",
       "    </tr>\n",
       "    <tr>\n",
       "      <th>4741</th>\n",
       "      <td>1.0</td>\n",
       "      <td>2</td>\n",
       "      <td>1000</td>\n",
       "      <td>2</td>\n",
       "      <td>5</td>\n",
       "      <td>18</td>\n",
       "      <td>2</td>\n",
       "      <td>2</td>\n",
       "      <td>3</td>\n",
       "      <td>5</td>\n",
       "      <td>...</td>\n",
       "      <td>0.0</td>\n",
       "      <td>1.0</td>\n",
       "      <td>0.0</td>\n",
       "      <td>0.0</td>\n",
       "      <td>1.0</td>\n",
       "      <td>0.0</td>\n",
       "      <td>1.0</td>\n",
       "      <td>0.0</td>\n",
       "      <td>0.0</td>\n",
       "      <td>1.0</td>\n",
       "    </tr>\n",
       "    <tr>\n",
       "      <th>4742</th>\n",
       "      <td>1.0</td>\n",
       "      <td>3</td>\n",
       "      <td>2000</td>\n",
       "      <td>3</td>\n",
       "      <td>5</td>\n",
       "      <td>15</td>\n",
       "      <td>6</td>\n",
       "      <td>2</td>\n",
       "      <td>1</td>\n",
       "      <td>4</td>\n",
       "      <td>...</td>\n",
       "      <td>0.0</td>\n",
       "      <td>1.0</td>\n",
       "      <td>0.0</td>\n",
       "      <td>0.0</td>\n",
       "      <td>1.0</td>\n",
       "      <td>0.0</td>\n",
       "      <td>1.0</td>\n",
       "      <td>0.0</td>\n",
       "      <td>0.0</td>\n",
       "      <td>1.0</td>\n",
       "    </tr>\n",
       "    <tr>\n",
       "      <th>4743</th>\n",
       "      <td>1.0</td>\n",
       "      <td>3</td>\n",
       "      <td>1750</td>\n",
       "      <td>3</td>\n",
       "      <td>7</td>\n",
       "      <td>10</td>\n",
       "      <td>6</td>\n",
       "      <td>3</td>\n",
       "      <td>3</td>\n",
       "      <td>5</td>\n",
       "      <td>...</td>\n",
       "      <td>0.0</td>\n",
       "      <td>1.0</td>\n",
       "      <td>0.0</td>\n",
       "      <td>0.0</td>\n",
       "      <td>1.0</td>\n",
       "      <td>0.0</td>\n",
       "      <td>1.0</td>\n",
       "      <td>0.0</td>\n",
       "      <td>0.0</td>\n",
       "      <td>0.0</td>\n",
       "    </tr>\n",
       "    <tr>\n",
       "      <th>4744</th>\n",
       "      <td>1.0</td>\n",
       "      <td>3</td>\n",
       "      <td>1500</td>\n",
       "      <td>2</td>\n",
       "      <td>7</td>\n",
       "      <td>6</td>\n",
       "      <td>2</td>\n",
       "      <td>3</td>\n",
       "      <td>23</td>\n",
       "      <td>34</td>\n",
       "      <td>...</td>\n",
       "      <td>0.0</td>\n",
       "      <td>1.0</td>\n",
       "      <td>0.0</td>\n",
       "      <td>0.0</td>\n",
       "      <td>1.0</td>\n",
       "      <td>0.0</td>\n",
       "      <td>0.0</td>\n",
       "      <td>1.0</td>\n",
       "      <td>0.0</td>\n",
       "      <td>0.0</td>\n",
       "    </tr>\n",
       "    <tr>\n",
       "      <th>4745</th>\n",
       "      <td>1.0</td>\n",
       "      <td>2</td>\n",
       "      <td>1000</td>\n",
       "      <td>2</td>\n",
       "      <td>5</td>\n",
       "      <td>4</td>\n",
       "      <td>2</td>\n",
       "      <td>2</td>\n",
       "      <td>4</td>\n",
       "      <td>5</td>\n",
       "      <td>...</td>\n",
       "      <td>0.0</td>\n",
       "      <td>1.0</td>\n",
       "      <td>0.0</td>\n",
       "      <td>0.0</td>\n",
       "      <td>0.0</td>\n",
       "      <td>1.0</td>\n",
       "      <td>0.0</td>\n",
       "      <td>0.0</td>\n",
       "      <td>0.0</td>\n",
       "      <td>1.0</td>\n",
       "    </tr>\n",
       "  </tbody>\n",
       "</table>\n",
       "<p>4746 rows × 21 columns</p>\n",
       "</div>"
      ],
      "text/plain": [
       "      const  BHK  Size  Bathroom  month posted  day posted  \\\n",
       "0       1.0    2  1100         2             5          18   \n",
       "1       1.0    2   800         1             5          13   \n",
       "2       1.0    2  1000         1             5          16   \n",
       "3       1.0    2   800         1             7           4   \n",
       "4       1.0    2   850         1             5           9   \n",
       "...     ...  ...   ...       ...           ...         ...   \n",
       "4741    1.0    2  1000         2             5          18   \n",
       "4742    1.0    3  2000         3             5          15   \n",
       "4743    1.0    3  1750         3             7          10   \n",
       "4744    1.0    3  1500         2             7           6   \n",
       "4745    1.0    2  1000         2             5           4   \n",
       "\n",
       "      day of week posted  quarter poster  Current  Total  ...    3    4    5  \\\n",
       "0                      2               2        0      2  ...  0.0  0.0  1.0   \n",
       "1                      4               2        1      3  ...  0.0  0.0  1.0   \n",
       "2                      0               2        1      3  ...  0.0  0.0  1.0   \n",
       "3                      0               3        1      2  ...  0.0  0.0  1.0   \n",
       "4                      0               2        1      2  ...  0.0  0.0  1.0   \n",
       "...                  ...             ...      ...    ...  ...  ...  ...  ...   \n",
       "4741                   2               2        3      5  ...  0.0  1.0  0.0   \n",
       "4742                   6               2        1      4  ...  0.0  1.0  0.0   \n",
       "4743                   6               3        3      5  ...  0.0  1.0  0.0   \n",
       "4744                   2               3       23     34  ...  0.0  1.0  0.0   \n",
       "4745                   2               2        4      5  ...  0.0  1.0  0.0   \n",
       "\n",
       "        6    7    8    9   10   11   12  \n",
       "0     0.0  0.0  1.0  1.0  0.0  0.0  1.0  \n",
       "1     0.0  1.0  0.0  1.0  0.0  0.0  1.0  \n",
       "2     0.0  1.0  0.0  1.0  0.0  0.0  1.0  \n",
       "3     0.0  0.0  1.0  1.0  0.0  0.0  1.0  \n",
       "4     0.0  0.0  1.0  0.0  0.0  0.0  1.0  \n",
       "...   ...  ...  ...  ...  ...  ...  ...  \n",
       "4741  0.0  1.0  0.0  1.0  0.0  0.0  1.0  \n",
       "4742  0.0  1.0  0.0  1.0  0.0  0.0  1.0  \n",
       "4743  0.0  1.0  0.0  1.0  0.0  0.0  0.0  \n",
       "4744  0.0  1.0  0.0  0.0  1.0  0.0  0.0  \n",
       "4745  0.0  0.0  1.0  0.0  0.0  0.0  1.0  \n",
       "\n",
       "[4746 rows x 21 columns]"
      ]
     },
     "execution_count": 46,
     "metadata": {},
     "output_type": "execute_result"
    }
   ],
   "source": [
    "X"
   ]
  },
  {
   "cell_type": "code",
   "execution_count": 47,
   "id": "98af5ca1",
   "metadata": {},
   "outputs": [
    {
     "data": {
      "text/plain": [
       "<matplotlib.collections.PathCollection at 0x266de2b1250>"
      ]
     },
     "execution_count": 47,
     "metadata": {},
     "output_type": "execute_result"
    },
    {
     "data": {
      "image/png": "[encoded data removed]",
      "text/plain": [
       "<Figure size 432x288 with 1 Axes>"
      ]
     },
     "metadata": {
      "needs_background": "light"
     },
     "output_type": "display_data"
    }
   ],
   "source": [
    "resuduals=result.resid\n",
    "plt.scatter(y,resuduals)"
   ]
  },
  {
   "cell_type": "code",
   "execution_count": 49,
   "id": "f8ed2242",
   "metadata": {},
   "outputs": [
    {
     "data": {
      "text/plain": [
       "[<matplotlib.lines.Line2D at 0x266de376ca0>]"
      ]
     },
     "execution_count": 49,
     "metadata": {},
     "output_type": "execute_result"
    },
    {
     "data": {
      "image/png": "[encoded data removed]",
      "text/plain": [
       "<Figure size 432x288 with 1 Axes>"
      ]
     },
     "metadata": {
      "needs_background": "light"
     },
     "output_type": "display_data"
    }
   ],
   "source": [
    "# checking Auto correlation\n",
    "plt.plot(resuduals.index,resuduals)"
   ]
  },
  {
   "cell_type": "code",
   "execution_count": 48,
   "id": "43d76283",
   "metadata": {},
   "outputs": [
    {
     "data": {
      "text/plain": [
       "<matplotlib.collections.PathCollection at 0x266de311490>"
      ]
     },
     "execution_count": 48,
     "metadata": {},
     "output_type": "execute_result"
    },
    {
     "data": {
      "image/png": "[encoded data removed]",
      "text/plain": [
       "<Figure size 432x288 with 1 Axes>"
      ]
     },
     "metadata": {
      "needs_background": "light"
     },
     "output_type": "display_data"
    }
   ],
   "source": [
    "#REMOVING AUTOCORRELATION\n",
    "resuduals=result.resid\n",
    "plt.scatter(np.log1p(y),resuduals)"
   ]
  },
  {
   "cell_type": "code",
   "execution_count": 50,
   "id": "10c5645a",
   "metadata": {},
   "outputs": [
    {
     "data": {
      "image/png": "[encoded data removed]",
      "text/plain": [
       "<Figure size 360x360 with 1 Axes>"
      ]
     },
     "metadata": {
      "needs_background": "light"
     },
     "output_type": "display_data"
    }
   ],
   "source": [
    "# checking the normality assumption without using log_scale\n",
    "import seaborn as sns \n",
    "\n",
    "sns.displot(resuduals)\n",
    "\n",
    "plt.show()"
   ]
  },
  {
   "cell_type": "code",
   "execution_count": 51,
   "id": "9b74b955",
   "metadata": {},
   "outputs": [
    {
     "data": {
      "image/png": "[encoded data removed]",
      "text/plain": [
       "<Figure size 432x288 with 1 Axes>"
      ]
     },
     "metadata": {
      "needs_background": "light"
     },
     "output_type": "display_data"
    },
    {
     "data": {
      "image/png": "[encoded data removed]",
      "text/plain": [
       "<Figure size 432x288 with 1 Axes>"
      ]
     },
     "metadata": {
      "needs_background": "light"
     },
     "output_type": "display_data"
    },
    {
     "data": {
      "image/png": "[encoded data removed]",
      "text/plain": [
       "<Figure size 432x288 with 1 Axes>"
      ]
     },
     "metadata": {
      "needs_background": "light"
     },
     "output_type": "display_data"
    }
   ],
   "source": [
    "#residual relation with independent variable\n",
    "for col in tyui:\n",
    "    plt.scatter(X[col],resuduals)\n",
    "    plt.show()\n"
   ]
  },
  {
   "cell_type": "code",
   "execution_count": 52,
   "id": "f40efce0",
   "metadata": {},
   "outputs": [],
   "source": [
    "dict={}\n",
    "lis1=[]\n",
    "for col in X.columns:\n",
    "    lis1.append(col)\n",
    "for i in range(1,len(lis1)):\n",
    "    dict[lis1[i]]=i"
   ]
  },
  {
   "cell_type": "code",
   "execution_count": 53,
   "id": "dfceb9f5",
   "metadata": {},
   "outputs": [
    {
     "data": {
      "text/plain": [
       "{'BHK': 1,\n",
       " 'Size': 2,\n",
       " 'Bathroom': 3,\n",
       " 'month posted': 4,\n",
       " 'day posted': 5,\n",
       " 'day of week posted': 6,\n",
       " 'quarter poster': 7,\n",
       " 'Current': 8,\n",
       " 'Total': 9,\n",
       " 2: 10,\n",
       " 3: 11,\n",
       " 4: 12,\n",
       " 5: 13,\n",
       " 6: 14,\n",
       " 7: 15,\n",
       " 8: 16,\n",
       " 9: 17,\n",
       " 10: 18,\n",
       " 11: 19,\n",
       " 12: 20}"
      ]
     },
     "execution_count": 53,
     "metadata": {},
     "output_type": "execute_result"
    }
   ],
   "source": [
    "dict"
   ]
  },
  {
   "cell_type": "code",
   "execution_count": 54,
   "id": "e093e93b",
   "metadata": {},
   "outputs": [
    {
     "name": "stderr",
     "output_type": "stream",
     "text": [
      "C:\\Users\\Asus\\anaconda3\\lib\\site-packages\\seaborn\\_decorators.py:36: FutureWarning: Pass the following variable as a keyword arg: x. From version 0.12, the only valid positional argument will be `data`, and passing other arguments without an explicit keyword will result in an error or misinterpretation.\n",
      "  warnings.warn(\n",
      "C:\\Users\\Asus\\anaconda3\\lib\\site-packages\\seaborn\\_decorators.py:36: FutureWarning: Pass the following variable as a keyword arg: x. From version 0.12, the only valid positional argument will be `data`, and passing other arguments without an explicit keyword will result in an error or misinterpretation.\n",
      "  warnings.warn(\n",
      "C:\\Users\\Asus\\anaconda3\\lib\\site-packages\\seaborn\\_decorators.py:36: FutureWarning: Pass the following variable as a keyword arg: x. From version 0.12, the only valid positional argument will be `data`, and passing other arguments without an explicit keyword will result in an error or misinterpretation.\n",
      "  warnings.warn(\n",
      "C:\\Users\\Asus\\anaconda3\\lib\\site-packages\\seaborn\\_decorators.py:36: FutureWarning: Pass the following variable as a keyword arg: x. From version 0.12, the only valid positional argument will be `data`, and passing other arguments without an explicit keyword will result in an error or misinterpretation.\n",
      "  warnings.warn(\n",
      "C:\\Users\\Asus\\anaconda3\\lib\\site-packages\\seaborn\\_decorators.py:36: FutureWarning: Pass the following variable as a keyword arg: x. From version 0.12, the only valid positional argument will be `data`, and passing other arguments without an explicit keyword will result in an error or misinterpretation.\n",
      "  warnings.warn(\n",
      "C:\\Users\\Asus\\anaconda3\\lib\\site-packages\\seaborn\\_decorators.py:36: FutureWarning: Pass the following variable as a keyword arg: x. From version 0.12, the only valid positional argument will be `data`, and passing other arguments without an explicit keyword will result in an error or misinterpretation.\n",
      "  warnings.warn(\n",
      "C:\\Users\\Asus\\anaconda3\\lib\\site-packages\\seaborn\\_decorators.py:36: FutureWarning: Pass the following variable as a keyword arg: x. From version 0.12, the only valid positional argument will be `data`, and passing other arguments without an explicit keyword will result in an error or misinterpretation.\n",
      "  warnings.warn(\n",
      "C:\\Users\\Asus\\anaconda3\\lib\\site-packages\\seaborn\\_decorators.py:36: FutureWarning: Pass the following variable as a keyword arg: x. From version 0.12, the only valid positional argument will be `data`, and passing other arguments without an explicit keyword will result in an error or misinterpretation.\n",
      "  warnings.warn(\n",
      "C:\\Users\\Asus\\anaconda3\\lib\\site-packages\\seaborn\\_decorators.py:36: FutureWarning: Pass the following variable as a keyword arg: x. From version 0.12, the only valid positional argument will be `data`, and passing other arguments without an explicit keyword will result in an error or misinterpretation.\n",
      "  warnings.warn(\n",
      "C:\\Users\\Asus\\anaconda3\\lib\\site-packages\\seaborn\\_decorators.py:36: FutureWarning: Pass the following variable as a keyword arg: x. From version 0.12, the only valid positional argument will be `data`, and passing other arguments without an explicit keyword will result in an error or misinterpretation.\n",
      "  warnings.warn(\n",
      "C:\\Users\\Asus\\anaconda3\\lib\\site-packages\\seaborn\\_decorators.py:36: FutureWarning: Pass the following variable as a keyword arg: x. From version 0.12, the only valid positional argument will be `data`, and passing other arguments without an explicit keyword will result in an error or misinterpretation.\n",
      "  warnings.warn(\n",
      "C:\\Users\\Asus\\anaconda3\\lib\\site-packages\\seaborn\\_decorators.py:36: FutureWarning: Pass the following variable as a keyword arg: x. From version 0.12, the only valid positional argument will be `data`, and passing other arguments without an explicit keyword will result in an error or misinterpretation.\n",
      "  warnings.warn(\n",
      "C:\\Users\\Asus\\anaconda3\\lib\\site-packages\\seaborn\\_decorators.py:36: FutureWarning: Pass the following variable as a keyword arg: x. From version 0.12, the only valid positional argument will be `data`, and passing other arguments without an explicit keyword will result in an error or misinterpretation.\n",
      "  warnings.warn(\n",
      "C:\\Users\\Asus\\anaconda3\\lib\\site-packages\\seaborn\\_decorators.py:36: FutureWarning: Pass the following variable as a keyword arg: x. From version 0.12, the only valid positional argument will be `data`, and passing other arguments without an explicit keyword will result in an error or misinterpretation.\n",
      "  warnings.warn(\n",
      "C:\\Users\\Asus\\anaconda3\\lib\\site-packages\\seaborn\\_decorators.py:36: FutureWarning: Pass the following variable as a keyword arg: x. From version 0.12, the only valid positional argument will be `data`, and passing other arguments without an explicit keyword will result in an error or misinterpretation.\n",
      "  warnings.warn(\n",
      "C:\\Users\\Asus\\anaconda3\\lib\\site-packages\\seaborn\\_decorators.py:36: FutureWarning: Pass the following variable as a keyword arg: x. From version 0.12, the only valid positional argument will be `data`, and passing other arguments without an explicit keyword will result in an error or misinterpretation.\n",
      "  warnings.warn(\n",
      "C:\\Users\\Asus\\anaconda3\\lib\\site-packages\\seaborn\\_decorators.py:36: FutureWarning: Pass the following variable as a keyword arg: x. From version 0.12, the only valid positional argument will be `data`, and passing other arguments without an explicit keyword will result in an error or misinterpretation.\n",
      "  warnings.warn(\n",
      "C:\\Users\\Asus\\anaconda3\\lib\\site-packages\\seaborn\\_decorators.py:36: FutureWarning: Pass the following variable as a keyword arg: x. From version 0.12, the only valid positional argument will be `data`, and passing other arguments without an explicit keyword will result in an error or misinterpretation.\n",
      "  warnings.warn(\n",
      "C:\\Users\\Asus\\anaconda3\\lib\\site-packages\\seaborn\\_decorators.py:36: FutureWarning: Pass the following variable as a keyword arg: x. From version 0.12, the only valid positional argument will be `data`, and passing other arguments without an explicit keyword will result in an error or misinterpretation.\n",
      "  warnings.warn(\n",
      "C:\\Users\\Asus\\anaconda3\\lib\\site-packages\\seaborn\\_decorators.py:36: FutureWarning: Pass the following variable as a keyword arg: x. From version 0.12, the only valid positional argument will be `data`, and passing other arguments without an explicit keyword will result in an error or misinterpretation.\n",
      "  warnings.warn(\n"
     ]
    },
    {
     "data": {
      "image/png": "[encoded data removed]",
      "text/plain": [
       "<Figure size 1440x2160 with 20 Axes>"
      ]
     },
     "metadata": {
      "needs_background": "light"
     },
     "output_type": "display_data"
    }
   ],
   "source": [
    "# BEFORE REMOVING OUTLIERS\n",
    "plt.figure(figsize = (20,30))\n",
    "for var, i in dict.items():\n",
    "    plt.subplot(5,4,i)\n",
    "    sns.boxplot(data[var], whis = 1.5)\n",
    "    plt.title(var)\n",
    "plt.show()"
   ]
  },
  {
   "cell_type": "code",
   "execution_count": 55,
   "id": "5c18a9f0",
   "metadata": {},
   "outputs": [],
   "source": [
    "numeric_cols = [] \n",
    "for i in data.columns:\n",
    "    if data[i].dtype in (np.float64, np.int64):\n",
    "        numeric_cols.append(i)"
   ]
  },
  {
   "cell_type": "code",
   "execution_count": 56,
   "id": "ce010c44",
   "metadata": {},
   "outputs": [
    {
     "data": {
      "text/html": [
       "<div>\n",
       "<style scoped>\n",
       "    .dataframe tbody tr th:only-of-type {\n",
       "        vertical-align: middle;\n",
       "    }\n",
       "\n",
       "    .dataframe tbody tr th {\n",
       "        vertical-align: top;\n",
       "    }\n",
       "\n",
       "    .dataframe thead th {\n",
       "        text-align: right;\n",
       "    }\n",
       "</style>\n",
       "<table border=\"1\" class=\"dataframe\">\n",
       "  <thead>\n",
       "    <tr style=\"text-align: right;\">\n",
       "      <th></th>\n",
       "      <th>Factor</th>\n",
       "      <th>Lower Bound %</th>\n",
       "      <th>Upper Bound %</th>\n",
       "    </tr>\n",
       "  </thead>\n",
       "  <tbody>\n",
       "    <tr>\n",
       "      <th>0</th>\n",
       "      <td>BHK</td>\n",
       "      <td>0.0</td>\n",
       "      <td>0.57</td>\n",
       "    </tr>\n",
       "    <tr>\n",
       "      <th>1</th>\n",
       "      <td>Rent</td>\n",
       "      <td>0.0</td>\n",
       "      <td>10.96</td>\n",
       "    </tr>\n",
       "    <tr>\n",
       "      <th>2</th>\n",
       "      <td>Size</td>\n",
       "      <td>0.0</td>\n",
       "      <td>4.28</td>\n",
       "    </tr>\n",
       "    <tr>\n",
       "      <th>3</th>\n",
       "      <td>Bathroom</td>\n",
       "      <td>0.0</td>\n",
       "      <td>4.89</td>\n",
       "    </tr>\n",
       "    <tr>\n",
       "      <th>4</th>\n",
       "      <td>month posted</td>\n",
       "      <td>0.0</td>\n",
       "      <td>0.00</td>\n",
       "    </tr>\n",
       "    <tr>\n",
       "      <th>5</th>\n",
       "      <td>day posted</td>\n",
       "      <td>0.0</td>\n",
       "      <td>0.00</td>\n",
       "    </tr>\n",
       "    <tr>\n",
       "      <th>6</th>\n",
       "      <td>day of week posted</td>\n",
       "      <td>0.0</td>\n",
       "      <td>0.00</td>\n",
       "    </tr>\n",
       "    <tr>\n",
       "      <th>7</th>\n",
       "      <td>quarter poster</td>\n",
       "      <td>0.0</td>\n",
       "      <td>20.61</td>\n",
       "    </tr>\n",
       "    <tr>\n",
       "      <th>8</th>\n",
       "      <td>Current</td>\n",
       "      <td>0.0</td>\n",
       "      <td>13.44</td>\n",
       "    </tr>\n",
       "    <tr>\n",
       "      <th>9</th>\n",
       "      <td>Total</td>\n",
       "      <td>0.0</td>\n",
       "      <td>14.83</td>\n",
       "    </tr>\n",
       "    <tr>\n",
       "      <th>10</th>\n",
       "      <td>0</td>\n",
       "      <td>0.0</td>\n",
       "      <td>0.00</td>\n",
       "    </tr>\n",
       "    <tr>\n",
       "      <th>11</th>\n",
       "      <td>1</td>\n",
       "      <td>0.0</td>\n",
       "      <td>0.00</td>\n",
       "    </tr>\n",
       "    <tr>\n",
       "      <th>12</th>\n",
       "      <td>2</td>\n",
       "      <td>0.0</td>\n",
       "      <td>18.77</td>\n",
       "    </tr>\n",
       "    <tr>\n",
       "      <th>13</th>\n",
       "      <td>3</td>\n",
       "      <td>0.0</td>\n",
       "      <td>12.75</td>\n",
       "    </tr>\n",
       "    <tr>\n",
       "      <th>14</th>\n",
       "      <td>4</td>\n",
       "      <td>0.0</td>\n",
       "      <td>18.29</td>\n",
       "    </tr>\n",
       "    <tr>\n",
       "      <th>15</th>\n",
       "      <td>5</td>\n",
       "      <td>0.0</td>\n",
       "      <td>11.04</td>\n",
       "    </tr>\n",
       "    <tr>\n",
       "      <th>16</th>\n",
       "      <td>6</td>\n",
       "      <td>0.0</td>\n",
       "      <td>20.48</td>\n",
       "    </tr>\n",
       "    <tr>\n",
       "      <th>17</th>\n",
       "      <td>7</td>\n",
       "      <td>0.0</td>\n",
       "      <td>0.00</td>\n",
       "    </tr>\n",
       "    <tr>\n",
       "      <th>18</th>\n",
       "      <td>8</td>\n",
       "      <td>0.0</td>\n",
       "      <td>0.00</td>\n",
       "    </tr>\n",
       "    <tr>\n",
       "      <th>19</th>\n",
       "      <td>9</td>\n",
       "      <td>0.0</td>\n",
       "      <td>0.00</td>\n",
       "    </tr>\n",
       "    <tr>\n",
       "      <th>20</th>\n",
       "      <td>10</td>\n",
       "      <td>0.0</td>\n",
       "      <td>9.95</td>\n",
       "    </tr>\n",
       "    <tr>\n",
       "      <th>21</th>\n",
       "      <td>11</td>\n",
       "      <td>0.0</td>\n",
       "      <td>0.02</td>\n",
       "    </tr>\n",
       "    <tr>\n",
       "      <th>22</th>\n",
       "      <td>12</td>\n",
       "      <td>0.0</td>\n",
       "      <td>0.00</td>\n",
       "    </tr>\n",
       "  </tbody>\n",
       "</table>\n",
       "</div>"
      ],
      "text/plain": [
       "                Factor  Lower Bound %  Upper Bound %\n",
       "0                  BHK            0.0           0.57\n",
       "1                 Rent            0.0          10.96\n",
       "2                 Size            0.0           4.28\n",
       "3             Bathroom            0.0           4.89\n",
       "4         month posted            0.0           0.00\n",
       "5           day posted            0.0           0.00\n",
       "6   day of week posted            0.0           0.00\n",
       "7       quarter poster            0.0          20.61\n",
       "8              Current            0.0          13.44\n",
       "9                Total            0.0          14.83\n",
       "10                   0            0.0           0.00\n",
       "11                   1            0.0           0.00\n",
       "12                   2            0.0          18.77\n",
       "13                   3            0.0          12.75\n",
       "14                   4            0.0          18.29\n",
       "15                   5            0.0          11.04\n",
       "16                   6            0.0          20.48\n",
       "17                   7            0.0           0.00\n",
       "18                   8            0.0           0.00\n",
       "19                   9            0.0           0.00\n",
       "20                  10            0.0           9.95\n",
       "21                  11            0.0           0.02\n",
       "22                  12            0.0           0.00"
      ]
     },
     "execution_count": 56,
     "metadata": {},
     "output_type": "execute_result"
    }
   ],
   "source": [
    " percent_low = []\n",
    "percent_high = []\n",
    "for col in numeric_cols:\n",
    "    q1 = data[col].quantile(0.25)\n",
    "    q3 = data[col].quantile(0.75)\n",
    "    iqr = q3 - q1\n",
    "    low = q1 - (iqr*1.5)\n",
    "    high = q3 + (iqr*1.5)\n",
    "    count_l = len(np.where(data[col] < low)[0])\n",
    "    count_h = len(np.where(data[col] > high)[0])\n",
    "    percent_low.append(round(count_l/len(data[col])*100, 2))\n",
    "    percent_high.append(round(count_h/len(data[col])*100, 2))\n",
    "outlier_table = pd.DataFrame({'Factor':numeric_cols, 'Lower Bound %':percent_low, 'Upper Bound %':percent_high})\n",
    " outlier_table"
   ]
  },
  {
   "cell_type": "code",
   "execution_count": 57,
   "id": "1203a062",
   "metadata": {},
   "outputs": [],
   "source": [
    "from scipy.stats.mstats import winsorize\n",
    "for i,col in enumerate(numeric_cols, 1):\n",
    "    data[col] = winsorize(data[col], (max(percent_low)/100, max(percent_high)/100))"
   ]
  },
  {
   "cell_type": "code",
   "execution_count": 58,
   "id": "7ff828fb",
   "metadata": {},
   "outputs": [
    {
     "name": "stderr",
     "output_type": "stream",
     "text": [
      "C:\\Users\\Asus\\anaconda3\\lib\\site-packages\\seaborn\\_decorators.py:36: FutureWarning: Pass the following variable as a keyword arg: x. From version 0.12, the only valid positional argument will be `data`, and passing other arguments without an explicit keyword will result in an error or misinterpretation.\n",
      "  warnings.warn(\n",
      "C:\\Users\\Asus\\anaconda3\\lib\\site-packages\\seaborn\\_decorators.py:36: FutureWarning: Pass the following variable as a keyword arg: x. From version 0.12, the only valid positional argument will be `data`, and passing other arguments without an explicit keyword will result in an error or misinterpretation.\n",
      "  warnings.warn(\n",
      "C:\\Users\\Asus\\anaconda3\\lib\\site-packages\\seaborn\\_decorators.py:36: FutureWarning: Pass the following variable as a keyword arg: x. From version 0.12, the only valid positional argument will be `data`, and passing other arguments without an explicit keyword will result in an error or misinterpretation.\n",
      "  warnings.warn(\n",
      "C:\\Users\\Asus\\anaconda3\\lib\\site-packages\\seaborn\\_decorators.py:36: FutureWarning: Pass the following variable as a keyword arg: x. From version 0.12, the only valid positional argument will be `data`, and passing other arguments without an explicit keyword will result in an error or misinterpretation.\n",
      "  warnings.warn(\n",
      "C:\\Users\\Asus\\anaconda3\\lib\\site-packages\\seaborn\\_decorators.py:36: FutureWarning: Pass the following variable as a keyword arg: x. From version 0.12, the only valid positional argument will be `data`, and passing other arguments without an explicit keyword will result in an error or misinterpretation.\n",
      "  warnings.warn(\n",
      "C:\\Users\\Asus\\anaconda3\\lib\\site-packages\\seaborn\\_decorators.py:36: FutureWarning: Pass the following variable as a keyword arg: x. From version 0.12, the only valid positional argument will be `data`, and passing other arguments without an explicit keyword will result in an error or misinterpretation.\n",
      "  warnings.warn(\n",
      "C:\\Users\\Asus\\anaconda3\\lib\\site-packages\\seaborn\\_decorators.py:36: FutureWarning: Pass the following variable as a keyword arg: x. From version 0.12, the only valid positional argument will be `data`, and passing other arguments without an explicit keyword will result in an error or misinterpretation.\n",
      "  warnings.warn(\n",
      "C:\\Users\\Asus\\anaconda3\\lib\\site-packages\\seaborn\\_decorators.py:36: FutureWarning: Pass the following variable as a keyword arg: x. From version 0.12, the only valid positional argument will be `data`, and passing other arguments without an explicit keyword will result in an error or misinterpretation.\n",
      "  warnings.warn(\n",
      "C:\\Users\\Asus\\anaconda3\\lib\\site-packages\\seaborn\\_decorators.py:36: FutureWarning: Pass the following variable as a keyword arg: x. From version 0.12, the only valid positional argument will be `data`, and passing other arguments without an explicit keyword will result in an error or misinterpretation.\n",
      "  warnings.warn(\n",
      "C:\\Users\\Asus\\anaconda3\\lib\\site-packages\\seaborn\\_decorators.py:36: FutureWarning: Pass the following variable as a keyword arg: x. From version 0.12, the only valid positional argument will be `data`, and passing other arguments without an explicit keyword will result in an error or misinterpretation.\n",
      "  warnings.warn(\n",
      "C:\\Users\\Asus\\anaconda3\\lib\\site-packages\\seaborn\\_decorators.py:36: FutureWarning: Pass the following variable as a keyword arg: x. From version 0.12, the only valid positional argument will be `data`, and passing other arguments without an explicit keyword will result in an error or misinterpretation.\n",
      "  warnings.warn(\n",
      "C:\\Users\\Asus\\anaconda3\\lib\\site-packages\\seaborn\\_decorators.py:36: FutureWarning: Pass the following variable as a keyword arg: x. From version 0.12, the only valid positional argument will be `data`, and passing other arguments without an explicit keyword will result in an error or misinterpretation.\n",
      "  warnings.warn(\n",
      "C:\\Users\\Asus\\anaconda3\\lib\\site-packages\\seaborn\\_decorators.py:36: FutureWarning: Pass the following variable as a keyword arg: x. From version 0.12, the only valid positional argument will be `data`, and passing other arguments without an explicit keyword will result in an error or misinterpretation.\n",
      "  warnings.warn(\n",
      "C:\\Users\\Asus\\anaconda3\\lib\\site-packages\\seaborn\\_decorators.py:36: FutureWarning: Pass the following variable as a keyword arg: x. From version 0.12, the only valid positional argument will be `data`, and passing other arguments without an explicit keyword will result in an error or misinterpretation.\n",
      "  warnings.warn(\n",
      "C:\\Users\\Asus\\anaconda3\\lib\\site-packages\\seaborn\\_decorators.py:36: FutureWarning: Pass the following variable as a keyword arg: x. From version 0.12, the only valid positional argument will be `data`, and passing other arguments without an explicit keyword will result in an error or misinterpretation.\n",
      "  warnings.warn(\n",
      "C:\\Users\\Asus\\anaconda3\\lib\\site-packages\\seaborn\\_decorators.py:36: FutureWarning: Pass the following variable as a keyword arg: x. From version 0.12, the only valid positional argument will be `data`, and passing other arguments without an explicit keyword will result in an error or misinterpretation.\n",
      "  warnings.warn(\n",
      "C:\\Users\\Asus\\anaconda3\\lib\\site-packages\\seaborn\\_decorators.py:36: FutureWarning: Pass the following variable as a keyword arg: x. From version 0.12, the only valid positional argument will be `data`, and passing other arguments without an explicit keyword will result in an error or misinterpretation.\n",
      "  warnings.warn(\n",
      "C:\\Users\\Asus\\anaconda3\\lib\\site-packages\\seaborn\\_decorators.py:36: FutureWarning: Pass the following variable as a keyword arg: x. From version 0.12, the only valid positional argument will be `data`, and passing other arguments without an explicit keyword will result in an error or misinterpretation.\n",
      "  warnings.warn(\n",
      "C:\\Users\\Asus\\anaconda3\\lib\\site-packages\\seaborn\\_decorators.py:36: FutureWarning: Pass the following variable as a keyword arg: x. From version 0.12, the only valid positional argument will be `data`, and passing other arguments without an explicit keyword will result in an error or misinterpretation.\n",
      "  warnings.warn(\n",
      "C:\\Users\\Asus\\anaconda3\\lib\\site-packages\\seaborn\\_decorators.py:36: FutureWarning: Pass the following variable as a keyword arg: x. From version 0.12, the only valid positional argument will be `data`, and passing other arguments without an explicit keyword will result in an error or misinterpretation.\n",
      "  warnings.warn(\n"
     ]
    },
    {
     "data": {
      "image/png": "[encoded data removed]",
      "text/plain": [
       "<Figure size 1440x2160 with 20 Axes>"
      ]
     },
     "metadata": {
      "needs_background": "light"
     },
     "output_type": "display_data"
    }
   ],
   "source": [
    "# BEFORE REMOVING OUTLIERS\n",
    "plt.figure(figsize = (20,30))\n",
    "for var, i in dict.items():\n",
    "    plt.subplot(5,4,i)\n",
    "    sns.boxplot(data[var], whis = 1.5)\n",
    "    plt.title(var)\n",
    "plt.show()"
   ]
  },
  {
   "cell_type": "markdown",
   "id": "767aee09",
   "metadata": {},
   "source": [
    "# SPLITTING THE DATASET"
   ]
  },
  {
   "cell_type": "code",
   "execution_count": 59,
   "id": "6f15bfd5",
   "metadata": {},
   "outputs": [],
   "source": [
    "from sklearn.model_selection import train_test_split \n",
    "X_train,X_test,y_train,y_test=train_test_split(X,y,test_size=0.3,random_state=7)"
   ]
  },
  {
   "cell_type": "code",
   "execution_count": 60,
   "id": "e714f3bf",
   "metadata": {},
   "outputs": [
    {
     "data": {
      "text/plain": [
       "(3322, 21)"
      ]
     },
     "execution_count": 60,
     "metadata": {},
     "output_type": "execute_result"
    }
   ],
   "source": [
    "X_train.shape"
   ]
  },
  {
   "cell_type": "code",
   "execution_count": 61,
   "id": "e5718468",
   "metadata": {},
   "outputs": [
    {
     "data": {
      "text/plain": [
       "(1424, 21)"
      ]
     },
     "execution_count": 61,
     "metadata": {},
     "output_type": "execute_result"
    }
   ],
   "source": [
    "X_test.shape"
   ]
  },
  {
   "cell_type": "code",
   "execution_count": 62,
   "id": "9b6c8e45",
   "metadata": {},
   "outputs": [
    {
     "data": {
      "text/plain": [
       "(3322,)"
      ]
     },
     "execution_count": 62,
     "metadata": {},
     "output_type": "execute_result"
    }
   ],
   "source": [
    "y_train.shape"
   ]
  },
  {
   "cell_type": "code",
   "execution_count": 63,
   "id": "04dac5b6",
   "metadata": {},
   "outputs": [
    {
     "data": {
      "text/plain": [
       "(1424,)"
      ]
     },
     "execution_count": 63,
     "metadata": {},
     "output_type": "execute_result"
    }
   ],
   "source": [
    "y_test.shape"
   ]
  },
  {
   "cell_type": "code",
   "execution_count": 64,
   "id": "6f497922",
   "metadata": {},
   "outputs": [
    {
     "name": "stderr",
     "output_type": "stream",
     "text": [
      "C:\\Users\\Asus\\anaconda3\\lib\\site-packages\\sklearn\\utils\\validation.py:1688: FutureWarning: Feature names only support names that are all strings. Got feature names with dtypes: ['int', 'str']. An error will be raised in 1.2.\n",
      "  warnings.warn(\n",
      "C:\\Users\\Asus\\anaconda3\\lib\\site-packages\\sklearn\\utils\\validation.py:1688: FutureWarning: Feature names only support names that are all strings. Got feature names with dtypes: ['int', 'str']. An error will be raised in 1.2.\n",
      "  warnings.warn(\n"
     ]
    },
    {
     "data": {
      "text/plain": [
       "array([[ 0.        , -0.10544874,  0.1987489 , ..., -0.33154661,\n",
       "         0.        ,  0.68882398],\n",
       "       [ 0.        , -0.10544874,  0.04369365, ..., -0.33154661,\n",
       "         0.        ,  0.68882398],\n",
       "       [ 0.        ,  1.08605024,  0.66391465, ..., -0.33154661,\n",
       "         0.        ,  0.68882398],\n",
       "       ...,\n",
       "       [ 0.        , -1.29694771, -0.54551629, ..., -0.33154661,\n",
       "         0.        ,  0.68882398],\n",
       "       [ 0.        , -0.10544874, -0.25866408, ..., -0.33154661,\n",
       "         0.        , -1.45174969],\n",
       "       [ 0.        , -1.29694771, -0.34394447, ..., -0.33154661,\n",
       "         0.        ,  0.68882398]])"
      ]
     },
     "execution_count": 64,
     "metadata": {},
     "output_type": "execute_result"
    }
   ],
   "source": [
    "from sklearn.preprocessing import StandardScaler\n",
    "scaler=StandardScaler()\n",
    "scaler.fit_transform(X_train)"
   ]
  },
  {
   "cell_type": "code",
   "execution_count": 65,
   "id": "3eacbe97",
   "metadata": {},
   "outputs": [
    {
     "name": "stderr",
     "output_type": "stream",
     "text": [
      "C:\\Users\\Asus\\anaconda3\\lib\\site-packages\\sklearn\\utils\\validation.py:1688: FutureWarning: Feature names only support names that are all strings. Got feature names with dtypes: ['int', 'str']. An error will be raised in 1.2.\n",
      "  warnings.warn(\n"
     ]
    },
    {
     "data": {
      "text/plain": [
       "array([[ 0.        , -1.29694771, -0.88663783, ..., -0.33154661,\n",
       "         0.        , -1.45174969],\n",
       "       [ 0.        , -0.10544874,  0.1987489 , ..., -0.33154661,\n",
       "         0.        , -1.45174969],\n",
       "       [ 0.        , -1.29694771, -0.11136159, ..., -0.33154661,\n",
       "         0.        ,  0.68882398],\n",
       "       ...,\n",
       "       [ 0.        , -0.10544874, -0.11136159, ..., -0.33154661,\n",
       "         0.        ,  0.68882398],\n",
       "       [ 0.        , -0.10544874, -0.03383397, ..., -0.33154661,\n",
       "         0.        ,  0.68882398],\n",
       "       [ 0.        , -1.29694771, -1.11922071, ..., -0.33154661,\n",
       "         0.        ,  0.68882398]])"
      ]
     },
     "execution_count": 65,
     "metadata": {},
     "output_type": "execute_result"
    }
   ],
   "source": [
    "\n",
    "scaler.transform(X_test)"
   ]
  },
  {
   "cell_type": "code",
   "execution_count": 66,
   "id": "0d168f3c",
   "metadata": {},
   "outputs": [
    {
     "name": "stderr",
     "output_type": "stream",
     "text": [
      "C:\\Users\\Asus\\anaconda3\\lib\\site-packages\\sklearn\\utils\\validation.py:1688: FutureWarning: Feature names only support names that are all strings. Got feature names with dtypes: ['int', 'str']. An error will be raised in 1.2.\n",
      "  warnings.warn(\n"
     ]
    },
    {
     "data": {
      "text/plain": [
       "LinearRegression()"
      ]
     },
     "execution_count": 66,
     "metadata": {},
     "output_type": "execute_result"
    }
   ],
   "source": [
    "from sklearn.linear_model import LinearRegression\n",
    "regressor1 = LinearRegression()\n",
    "regressor1.fit(X_train, y_train)"
   ]
  },
  {
   "cell_type": "code",
   "execution_count": 67,
   "id": "9f26bff5",
   "metadata": {},
   "outputs": [
    {
     "name": "stdout",
     "output_type": "stream",
     "text": [
      "         Actual  Predicted\n",
      "407    8.612503   8.921353\n",
      "2013  10.308953  10.058482\n",
      "2015   9.615805   9.287927\n",
      "2930   9.210340   9.547301\n",
      "561   10.691945  11.143735\n",
      "...         ...        ...\n",
      "1140  10.373491  10.692430\n",
      "2169   9.615805   9.399975\n",
      "1578   9.392662   9.508693\n",
      "4146   9.433484   9.420217\n",
      "2983   9.104980   9.073520\n",
      "\n",
      "[1424 rows x 2 columns]\n",
      "0.819049655769876\n"
     ]
    },
    {
     "name": "stderr",
     "output_type": "stream",
     "text": [
      "C:\\Users\\Asus\\anaconda3\\lib\\site-packages\\sklearn\\utils\\validation.py:1688: FutureWarning: Feature names only support names that are all strings. Got feature names with dtypes: ['int', 'str']. An error will be raised in 1.2.\n",
      "  warnings.warn(\n",
      "C:\\Users\\Asus\\anaconda3\\lib\\site-packages\\sklearn\\utils\\validation.py:1688: FutureWarning: Feature names only support names that are all strings. Got feature names with dtypes: ['int', 'str']. An error will be raised in 1.2.\n",
      "  warnings.warn(\n"
     ]
    }
   ],
   "source": [
    "from sklearn.metrics import mean_squared_error,r2_score\n",
    "y_pred=regressor1.predict(X_test)\n",
    "comparison=pd.DataFrame({\"Actual\":y_test,\"Predicted\":y_pred})\n",
    "print(comparison)\n",
    "mse1=mean_squared_error(y_test,y_pred)\n",
    "r1=r2_score(y_test,regressor1.predict(X_test))\n",
    "print(r1)"
   ]
  },
  {
   "cell_type": "markdown",
   "id": "73cbadc8",
   "metadata": {},
   "source": [
    "# MODEL BUILDING"
   ]
  },
  {
   "cell_type": "code",
   "execution_count": 68,
   "id": "08635544",
   "metadata": {},
   "outputs": [],
   "source": [
    "from sklearn.ensemble import RandomForestRegressor\n",
    "from sklearn.tree import DecisionTreeRegressor\n",
    "from sklearn.linear_model import LinearRegression\n",
    "from sklearn.neighbors import KNeighborsRegressor"
   ]
  },
  {
   "cell_type": "code",
   "execution_count": 69,
   "id": "24237eed",
   "metadata": {},
   "outputs": [
    {
     "name": "stderr",
     "output_type": "stream",
     "text": [
      "C:\\Users\\Asus\\anaconda3\\lib\\site-packages\\sklearn\\utils\\validation.py:1688: FutureWarning: Feature names only support names that are all strings. Got feature names with dtypes: ['int', 'str']. An error will be raised in 1.2.\n",
      "  warnings.warn(\n",
      "C:\\Users\\Asus\\anaconda3\\lib\\site-packages\\sklearn\\utils\\validation.py:1688: FutureWarning: Feature names only support names that are all strings. Got feature names with dtypes: ['int', 'str']. An error will be raised in 1.2.\n",
      "  warnings.warn(\n",
      "C:\\Users\\Asus\\anaconda3\\lib\\site-packages\\sklearn\\utils\\validation.py:1688: FutureWarning: Feature names only support names that are all strings. Got feature names with dtypes: ['int', 'str']. An error will be raised in 1.2.\n",
      "  warnings.warn(\n",
      "C:\\Users\\Asus\\anaconda3\\lib\\site-packages\\sklearn\\utils\\validation.py:1688: FutureWarning: Feature names only support names that are all strings. Got feature names with dtypes: ['int', 'str']. An error will be raised in 1.2.\n",
      "  warnings.warn(\n",
      "C:\\Users\\Asus\\anaconda3\\lib\\site-packages\\sklearn\\utils\\validation.py:1688: FutureWarning: Feature names only support names that are all strings. Got feature names with dtypes: ['int', 'str']. An error will be raised in 1.2.\n",
      "  warnings.warn(\n",
      "C:\\Users\\Asus\\anaconda3\\lib\\site-packages\\sklearn\\utils\\validation.py:1688: FutureWarning: Feature names only support names that are all strings. Got feature names with dtypes: ['int', 'str']. An error will be raised in 1.2.\n",
      "  warnings.warn(\n",
      "C:\\Users\\Asus\\anaconda3\\lib\\site-packages\\sklearn\\utils\\validation.py:1688: FutureWarning: Feature names only support names that are all strings. Got feature names with dtypes: ['int', 'str']. An error will be raised in 1.2.\n",
      "  warnings.warn(\n",
      "C:\\Users\\Asus\\anaconda3\\lib\\site-packages\\sklearn\\utils\\validation.py:1688: FutureWarning: Feature names only support names that are all strings. Got feature names with dtypes: ['int', 'str']. An error will be raised in 1.2.\n",
      "  warnings.warn(\n",
      "C:\\Users\\Asus\\anaconda3\\lib\\site-packages\\sklearn\\utils\\validation.py:1688: FutureWarning: Feature names only support names that are all strings. Got feature names with dtypes: ['int', 'str']. An error will be raised in 1.2.\n",
      "  warnings.warn(\n",
      "C:\\Users\\Asus\\anaconda3\\lib\\site-packages\\sklearn\\utils\\validation.py:1688: FutureWarning: Feature names only support names that are all strings. Got feature names with dtypes: ['int', 'str']. An error will be raised in 1.2.\n",
      "  warnings.warn(\n",
      "C:\\Users\\Asus\\anaconda3\\lib\\site-packages\\sklearn\\utils\\validation.py:1688: FutureWarning: Feature names only support names that are all strings. Got feature names with dtypes: ['int', 'str']. An error will be raised in 1.2.\n",
      "  warnings.warn(\n"
     ]
    },
    {
     "name": "stdout",
     "output_type": "stream",
     "text": [
      "Linear Regression\n",
      "         Actual  Predicted\n",
      "407    8.612503   8.921353\n",
      "2013  10.308953  10.058482\n",
      "2015   9.615805   9.287927\n",
      "2930   9.210340   9.547301\n",
      "561   10.691945  11.143735\n",
      "...         ...        ...\n",
      "1140  10.373491  10.692430\n",
      "2169   9.615805   9.399975\n",
      "1578   9.392662   9.508693\n",
      "4146   9.433484   9.420217\n",
      "2983   9.104980   9.073520\n",
      "\n",
      "[1424 rows x 2 columns]\n",
      "R^2 Score:  0.819049655769876\n",
      "TRAINING DATA ACCURACY: 0.8132494040519245\n",
      "TEST DATA ACCURACY 0.819049655769876\n",
      "******************************************************\n",
      "\n",
      "\n",
      "Decision Tree\n",
      "         Actual  Predicted\n",
      "407    8.612503   8.748305\n",
      "2013  10.308953  10.308953\n",
      "2015   9.615805   9.903488\n",
      "2930   9.210340   9.210340\n",
      "561   10.691945  10.714418\n",
      "...         ...        ...\n",
      "1140  10.373491   8.922658\n",
      "2169   9.615805   8.853665\n",
      "1578   9.392662   9.581904\n",
      "4146   9.433484   9.952278\n",
      "2983   9.104980   9.998798\n",
      "\n",
      "[1424 rows x 2 columns]\n",
      "R^2 Score:  0.6729058711053832\n",
      "TRAINING DATA ACCURACY: 0.9997121631251444\n",
      "TEST DATA ACCURACY 0.6729058711053832\n",
      "******************************************************\n",
      "\n",
      "\n",
      "Random Forest\n",
      "         Actual  Predicted\n",
      "407    8.612503   8.773980\n",
      "2013  10.308953  10.040460\n",
      "2015   9.615805   9.597305\n",
      "2930   9.210340   9.348958\n",
      "561   10.691945  11.091877\n",
      "...         ...        ...\n",
      "1140  10.373491  10.664543\n",
      "2169   9.615805   9.508597\n",
      "1578   9.392662   9.597933\n",
      "4146   9.433484   9.860511\n",
      "2983   9.104980   9.216195\n",
      "\n",
      "[1424 rows x 2 columns]\n",
      "R^2 Score:  0.8189721187449086\n"
     ]
    },
    {
     "name": "stderr",
     "output_type": "stream",
     "text": [
      "C:\\Users\\Asus\\anaconda3\\lib\\site-packages\\sklearn\\utils\\validation.py:1688: FutureWarning: Feature names only support names that are all strings. Got feature names with dtypes: ['int', 'str']. An error will be raised in 1.2.\n",
      "  warnings.warn(\n",
      "C:\\Users\\Asus\\anaconda3\\lib\\site-packages\\sklearn\\utils\\validation.py:1688: FutureWarning: Feature names only support names that are all strings. Got feature names with dtypes: ['int', 'str']. An error will be raised in 1.2.\n",
      "  warnings.warn(\n",
      "C:\\Users\\Asus\\anaconda3\\lib\\site-packages\\sklearn\\utils\\validation.py:1688: FutureWarning: Feature names only support names that are all strings. Got feature names with dtypes: ['int', 'str']. An error will be raised in 1.2.\n",
      "  warnings.warn(\n"
     ]
    },
    {
     "name": "stdout",
     "output_type": "stream",
     "text": [
      "TRAINING DATA ACCURACY: 0.9738320100250875\n",
      "TEST DATA ACCURACY 0.8189721187449086\n",
      "******************************************************\n",
      "\n",
      "\n",
      "KNN\n"
     ]
    },
    {
     "name": "stderr",
     "output_type": "stream",
     "text": [
      "C:\\Users\\Asus\\anaconda3\\lib\\site-packages\\sklearn\\utils\\validation.py:1688: FutureWarning: Feature names only support names that are all strings. Got feature names with dtypes: ['int', 'str']. An error will be raised in 1.2.\n",
      "  warnings.warn(\n",
      "C:\\Users\\Asus\\anaconda3\\lib\\site-packages\\sklearn\\utils\\validation.py:1688: FutureWarning: Feature names only support names that are all strings. Got feature names with dtypes: ['int', 'str']. An error will be raised in 1.2.\n",
      "  warnings.warn(\n",
      "C:\\Users\\Asus\\anaconda3\\lib\\site-packages\\sklearn\\utils\\validation.py:1688: FutureWarning: Feature names only support names that are all strings. Got feature names with dtypes: ['int', 'str']. An error will be raised in 1.2.\n",
      "  warnings.warn(\n"
     ]
    },
    {
     "name": "stdout",
     "output_type": "stream",
     "text": [
      "         Actual  Predicted\n",
      "407    8.612503   8.852759\n",
      "2013  10.308953   9.603601\n",
      "2015   9.615805   9.653746\n",
      "2930   9.210340   8.984938\n",
      "561   10.691945  10.869137\n",
      "...         ...        ...\n",
      "1140  10.373491  10.693640\n",
      "2169   9.615805   9.586294\n",
      "1578   9.392662   9.818577\n",
      "4146   9.433484  10.067787\n",
      "2983   9.104980   8.414621\n",
      "\n",
      "[1424 rows x 2 columns]\n",
      "R^2 Score:  0.5431547343229398\n"
     ]
    },
    {
     "name": "stderr",
     "output_type": "stream",
     "text": [
      "C:\\Users\\Asus\\anaconda3\\lib\\site-packages\\sklearn\\utils\\validation.py:1688: FutureWarning: Feature names only support names that are all strings. Got feature names with dtypes: ['int', 'str']. An error will be raised in 1.2.\n",
      "  warnings.warn(\n",
      "C:\\Users\\Asus\\anaconda3\\lib\\site-packages\\sklearn\\utils\\validation.py:1688: FutureWarning: Feature names only support names that are all strings. Got feature names with dtypes: ['int', 'str']. An error will be raised in 1.2.\n",
      "  warnings.warn(\n"
     ]
    },
    {
     "name": "stdout",
     "output_type": "stream",
     "text": [
      "TRAINING DATA ACCURACY: 0.7066563166705859\n"
     ]
    },
    {
     "name": "stderr",
     "output_type": "stream",
     "text": [
      "C:\\Users\\Asus\\anaconda3\\lib\\site-packages\\sklearn\\utils\\validation.py:1688: FutureWarning: Feature names only support names that are all strings. Got feature names with dtypes: ['int', 'str']. An error will be raised in 1.2.\n",
      "  warnings.warn(\n"
     ]
    },
    {
     "name": "stdout",
     "output_type": "stream",
     "text": [
      "TEST DATA ACCURACY 0.5431547343229398\n",
      "******************************************************\n",
      "\n",
      "\n"
     ]
    }
   ],
   "source": [
    "models={\n",
    "    \"Linear Regression\":LinearRegression(),\n",
    "    \"Decision Tree\":DecisionTreeRegressor(),\n",
    "    \"Random Forest\": RandomForestRegressor(),\n",
    "    \"KNN\":KNeighborsRegressor()\n",
    "}\n",
    "for i in range(len(list(models))):\n",
    "    model=list(models.values())[i]\n",
    "    model.fit(X_train,y_train) \n",
    "    \n",
    "    print(list(models.keys())[i])\n",
    "    \n",
    "    \n",
    "    y_pred=model.predict(X_test)\n",
    "    comparison=pd.DataFrame({\"Actual\":y_test,\"Predicted\":y_pred})\n",
    "    \n",
    "    print(comparison)\n",
    "    \n",
    "    \n",
    "    mse1=mean_squared_error(y_test,y_pred)\n",
    "    r1=r2_score(y_test,model.predict(X_test))\n",
    "    \n",
    "    print(\"R^2 Score: \",r1)\n",
    "    \n",
    "    print(\"TRAINING DATA ACCURACY:\", model.score(X_train, y_train))\n",
    "    print(\"TEST DATA ACCURACY\", model.score(X_test, y_test))\n",
    "    print(\"******************************************************\")\n",
    "    print('\\n')"
   ]
  },
  {
   "cell_type": "code",
   "execution_count": 70,
   "id": "5797824f",
   "metadata": {},
   "outputs": [],
   "source": [
    "rf_params={\"max_depth\":[5,8,13,None,10],\n",
    "          \"max_features\":[5,7,\"auto\",9,11,12],\n",
    "          \"min_samples_split\":[2,8,15,23],\n",
    "          \"n_estimators\":[1200,400,800,1000]}\n",
    "dt_params={\"max_depth\":[5,8,13,None,10],\n",
    "           \"max_features\":[5,7,\"auto\",9],\n",
    "           \"random_state\":[10,35,67,None],\n",
    "           \"max_leaf_nodes\":[6,8,9,None]}\n",
    "knn_params={\"n_neighbors\":[15,25,30,35,40,45],\n",
    "            \"p\":[1,2],\n",
    "            \"n_jobs\":[-1,None]}"
   ]
  },
  {
   "cell_type": "code",
   "execution_count": 71,
   "id": "7b8aa31a",
   "metadata": {},
   "outputs": [],
   "source": [
    "randomcv_models=[(\"RANDOM FOREST\",RandomForestRegressor(),rf_params),\n",
    "                 (\"Decision Tree\",DecisionTreeRegressor(),dt_params),\n",
    "                (\"knn\",KNeighborsRegressor(),knn_params)]"
   ]
  },
  {
   "cell_type": "code",
   "execution_count": 72,
   "id": "0098bc55",
   "metadata": {},
   "outputs": [
    {
     "data": {
      "text/plain": [
       "[('RANDOM FOREST',\n",
       "  RandomForestRegressor(),\n",
       "  {'max_depth': [5, 8, 13, None, 10],\n",
       "   'max_features': [5, 7, 'auto', 9, 11, 12],\n",
       "   'min_samples_split': [2, 8, 15, 23],\n",
       "   'n_estimators': [1200, 400, 800, 1000]}),\n",
       " ('Decision Tree',\n",
       "  DecisionTreeRegressor(),\n",
       "  {'max_depth': [5, 8, 13, None, 10],\n",
       "   'max_features': [5, 7, 'auto', 9],\n",
       "   'random_state': [10, 35, 67, None],\n",
       "   'max_leaf_nodes': [6, 8, 9, None]}),\n",
       " ('knn',\n",
       "  KNeighborsRegressor(),\n",
       "  {'n_neighbors': [15, 25, 30, 35, 40, 45],\n",
       "   'p': [1, 2],\n",
       "   'n_jobs': [-1, None]})]"
      ]
     },
     "execution_count": 72,
     "metadata": {},
     "output_type": "execute_result"
    }
   ],
   "source": [
    "randomcv_models"
   ]
  },
  {
   "cell_type": "markdown",
   "id": "9f0e5512",
   "metadata": {},
   "source": [
    "# HYPER PARAMETRIC TRAINING"
   ]
  },
  {
   "cell_type": "code",
   "execution_count": 73,
   "id": "cdc35cc0",
   "metadata": {},
   "outputs": [
    {
     "name": "stdout",
     "output_type": "stream",
     "text": [
      "Fitting 3 folds for each of 100 candidates, totalling 300 fits\n"
     ]
    },
    {
     "name": "stderr",
     "output_type": "stream",
     "text": [
      "C:\\Users\\Asus\\anaconda3\\lib\\site-packages\\sklearn\\utils\\validation.py:1688: FutureWarning: Feature names only support names that are all strings. Got feature names with dtypes: ['int', 'str']. An error will be raised in 1.2.\n",
      "  warnings.warn(\n"
     ]
    },
    {
     "name": "stdout",
     "output_type": "stream",
     "text": [
      "Fitting 3 folds for each of 100 candidates, totalling 300 fits\n"
     ]
    },
    {
     "name": "stderr",
     "output_type": "stream",
     "text": [
      "C:\\Users\\Asus\\anaconda3\\lib\\site-packages\\sklearn\\utils\\validation.py:1688: FutureWarning: Feature names only support names that are all strings. Got feature names with dtypes: ['int', 'str']. An error will be raised in 1.2.\n",
      "  warnings.warn(\n",
      "C:\\Users\\Asus\\anaconda3\\lib\\site-packages\\sklearn\\model_selection\\_search.py:292: UserWarning: The total space of parameters 24 is smaller than n_iter=100. Running 24 iterations. For exhaustive searches, use GridSearchCV.\n",
      "  warnings.warn(\n"
     ]
    },
    {
     "name": "stdout",
     "output_type": "stream",
     "text": [
      "Fitting 3 folds for each of 24 candidates, totalling 72 fits\n",
      "------------------best parameters for RANDOM FOREST----------\n",
      "{'n_estimators': 1200, 'min_samples_split': 2, 'max_features': 9, 'max_depth': 10}\n",
      "------------------best parameters for Decision Tree----------\n",
      "{'random_state': 67, 'max_leaf_nodes': None, 'max_features': 'auto', 'max_depth': 8}\n",
      "------------------best parameters for knn----------\n",
      "{'p': 1, 'n_neighbors': 15, 'n_jobs': -1}\n"
     ]
    },
    {
     "name": "stderr",
     "output_type": "stream",
     "text": [
      "C:\\Users\\Asus\\anaconda3\\lib\\site-packages\\sklearn\\utils\\validation.py:1688: FutureWarning: Feature names only support names that are all strings. Got feature names with dtypes: ['int', 'str']. An error will be raised in 1.2.\n",
      "  warnings.warn(\n"
     ]
    }
   ],
   "source": [
    "from sklearn.model_selection import RandomizedSearchCV\n",
    "\n",
    "model_param={}\n",
    "for name,model,params in randomcv_models:\n",
    "    random=RandomizedSearchCV(estimator=model,param_distributions=params,n_iter=100,cv=3,verbose=2,n_jobs=-1)\n",
    "    random.fit(X_train,y_train)\n",
    "    model_param[name]=random.best_params_\n",
    "    \n",
    "for model_name in model_param:\n",
    "    print(f\"------------------best parameters for {model_name}----------\".format(model_name))\n",
    "    print(model_param[model_name])"
   ]
  },
  {
   "cell_type": "code",
   "execution_count": 75,
   "id": "16e7d33d",
   "metadata": {},
   "outputs": [
    {
     "name": "stderr",
     "output_type": "stream",
     "text": [
      "C:\\Users\\Asus\\anaconda3\\lib\\site-packages\\sklearn\\utils\\validation.py:1688: FutureWarning: Feature names only support names that are all strings. Got feature names with dtypes: ['int', 'str']. An error will be raised in 1.2.\n",
      "  warnings.warn(\n",
      "C:\\Users\\Asus\\anaconda3\\lib\\site-packages\\sklearn\\utils\\validation.py:1688: FutureWarning: Feature names only support names that are all strings. Got feature names with dtypes: ['int', 'str']. An error will be raised in 1.2.\n",
      "  warnings.warn(\n",
      "C:\\Users\\Asus\\anaconda3\\lib\\site-packages\\sklearn\\utils\\validation.py:1688: FutureWarning: Feature names only support names that are all strings. Got feature names with dtypes: ['int', 'str']. An error will be raised in 1.2.\n",
      "  warnings.warn(\n",
      "C:\\Users\\Asus\\anaconda3\\lib\\site-packages\\sklearn\\utils\\validation.py:1688: FutureWarning: Feature names only support names that are all strings. Got feature names with dtypes: ['int', 'str']. An error will be raised in 1.2.\n",
      "  warnings.warn(\n",
      "C:\\Users\\Asus\\anaconda3\\lib\\site-packages\\sklearn\\utils\\validation.py:1688: FutureWarning: Feature names only support names that are all strings. Got feature names with dtypes: ['int', 'str']. An error will be raised in 1.2.\n",
      "  warnings.warn(\n",
      "C:\\Users\\Asus\\anaconda3\\lib\\site-packages\\sklearn\\utils\\validation.py:1688: FutureWarning: Feature names only support names that are all strings. Got feature names with dtypes: ['int', 'str']. An error will be raised in 1.2.\n",
      "  warnings.warn(\n",
      "C:\\Users\\Asus\\anaconda3\\lib\\site-packages\\sklearn\\utils\\validation.py:1688: FutureWarning: Feature names only support names that are all strings. Got feature names with dtypes: ['int', 'str']. An error will be raised in 1.2.\n",
      "  warnings.warn(\n",
      "C:\\Users\\Asus\\anaconda3\\lib\\site-packages\\sklearn\\utils\\validation.py:1688: FutureWarning: Feature names only support names that are all strings. Got feature names with dtypes: ['int', 'str']. An error will be raised in 1.2.\n",
      "  warnings.warn(\n",
      "C:\\Users\\Asus\\anaconda3\\lib\\site-packages\\sklearn\\utils\\validation.py:1688: FutureWarning: Feature names only support names that are all strings. Got feature names with dtypes: ['int', 'str']. An error will be raised in 1.2.\n",
      "  warnings.warn(\n",
      "C:\\Users\\Asus\\anaconda3\\lib\\site-packages\\sklearn\\utils\\validation.py:1688: FutureWarning: Feature names only support names that are all strings. Got feature names with dtypes: ['int', 'str']. An error will be raised in 1.2.\n",
      "  warnings.warn(\n",
      "C:\\Users\\Asus\\anaconda3\\lib\\site-packages\\sklearn\\utils\\validation.py:1688: FutureWarning: Feature names only support names that are all strings. Got feature names with dtypes: ['int', 'str']. An error will be raised in 1.2.\n",
      "  warnings.warn(\n"
     ]
    },
    {
     "name": "stdout",
     "output_type": "stream",
     "text": [
      "Linear Regression\n",
      "         Actual  Predicted\n",
      "407    8.612503   8.921353\n",
      "2013  10.308953  10.058482\n",
      "2015   9.615805   9.287927\n",
      "2930   9.210340   9.547301\n",
      "561   10.691945  11.143735\n",
      "...         ...        ...\n",
      "1140  10.373491  10.692430\n",
      "2169   9.615805   9.399975\n",
      "1578   9.392662   9.508693\n",
      "4146   9.433484   9.420217\n",
      "2983   9.104980   9.073520\n",
      "\n",
      "[1424 rows x 2 columns]\n",
      "R^2 Score:  0.819049655769876\n",
      "TRAINING DATA ACCURACY: 0.8132494040519245\n",
      "TEST DATA ACCURACY 0.819049655769876\n",
      "******************************************************\n",
      "\n",
      "\n",
      "Decision Tree\n",
      "         Actual  Predicted\n",
      "407    8.612503   8.669070\n",
      "2013  10.308953  10.102170\n",
      "2015   9.615805   9.499054\n",
      "2930   9.210340   9.407934\n",
      "561   10.691945  10.746687\n",
      "...         ...        ...\n",
      "1140  10.373491  10.533287\n",
      "2169   9.615805   9.104854\n",
      "1578   9.392662   9.692640\n",
      "4146   9.433484   9.692640\n",
      "2983   9.104980   9.090610\n",
      "\n",
      "[1424 rows x 2 columns]\n",
      "R^2 Score:  0.7558596772397647\n",
      "TRAINING DATA ACCURACY: 0.8744531924290958\n",
      "TEST DATA ACCURACY 0.7558596772397647\n",
      "******************************************************\n",
      "\n",
      "\n",
      "Random Forest\n"
     ]
    },
    {
     "name": "stderr",
     "output_type": "stream",
     "text": [
      "C:\\Users\\Asus\\anaconda3\\lib\\site-packages\\sklearn\\utils\\validation.py:1688: FutureWarning: Feature names only support names that are all strings. Got feature names with dtypes: ['int', 'str']. An error will be raised in 1.2.\n",
      "  warnings.warn(\n"
     ]
    },
    {
     "name": "stdout",
     "output_type": "stream",
     "text": [
      "         Actual  Predicted\n",
      "407    8.612503   8.819815\n",
      "2013  10.308953   9.980433\n",
      "2015   9.615805   9.413725\n",
      "2930   9.210340   9.420189\n",
      "561   10.691945  11.269572\n",
      "...         ...        ...\n",
      "1140  10.373491  10.660755\n",
      "2169   9.615805   9.464369\n",
      "1578   9.392662   9.586598\n",
      "4146   9.433484   9.686433\n",
      "2983   9.104980   9.090449\n",
      "\n",
      "[1424 rows x 2 columns]\n"
     ]
    },
    {
     "name": "stderr",
     "output_type": "stream",
     "text": [
      "C:\\Users\\Asus\\anaconda3\\lib\\site-packages\\sklearn\\utils\\validation.py:1688: FutureWarning: Feature names only support names that are all strings. Got feature names with dtypes: ['int', 'str']. An error will be raised in 1.2.\n",
      "  warnings.warn(\n"
     ]
    },
    {
     "name": "stdout",
     "output_type": "stream",
     "text": [
      "R^2 Score:  0.8305677916007174\n"
     ]
    },
    {
     "name": "stderr",
     "output_type": "stream",
     "text": [
      "C:\\Users\\Asus\\anaconda3\\lib\\site-packages\\sklearn\\utils\\validation.py:1688: FutureWarning: Feature names only support names that are all strings. Got feature names with dtypes: ['int', 'str']. An error will be raised in 1.2.\n",
      "  warnings.warn(\n"
     ]
    },
    {
     "name": "stdout",
     "output_type": "stream",
     "text": [
      "TRAINING DATA ACCURACY: 0.9148440754557254\n"
     ]
    },
    {
     "name": "stderr",
     "output_type": "stream",
     "text": [
      "C:\\Users\\Asus\\anaconda3\\lib\\site-packages\\sklearn\\utils\\validation.py:1688: FutureWarning: Feature names only support names that are all strings. Got feature names with dtypes: ['int', 'str']. An error will be raised in 1.2.\n",
      "  warnings.warn(\n"
     ]
    },
    {
     "name": "stdout",
     "output_type": "stream",
     "text": [
      "TEST DATA ACCURACY 0.8305677916007174\n",
      "******************************************************\n",
      "\n",
      "\n",
      "KNN\n"
     ]
    },
    {
     "name": "stderr",
     "output_type": "stream",
     "text": [
      "C:\\Users\\Asus\\anaconda3\\lib\\site-packages\\sklearn\\utils\\validation.py:1688: FutureWarning: Feature names only support names that are all strings. Got feature names with dtypes: ['int', 'str']. An error will be raised in 1.2.\n",
      "  warnings.warn(\n",
      "C:\\Users\\Asus\\anaconda3\\lib\\site-packages\\sklearn\\utils\\validation.py:1688: FutureWarning: Feature names only support names that are all strings. Got feature names with dtypes: ['int', 'str']. An error will be raised in 1.2.\n",
      "  warnings.warn(\n"
     ]
    },
    {
     "name": "stdout",
     "output_type": "stream",
     "text": [
      "         Actual  Predicted\n",
      "407    8.612503   8.962640\n",
      "2013  10.308953   9.749432\n",
      "2015   9.615805   9.573987\n",
      "2930   9.210340   9.058381\n",
      "561   10.691945  10.824385\n",
      "...         ...        ...\n",
      "1140  10.373491  10.542837\n",
      "2169   9.615805   9.696835\n",
      "1578   9.392662   9.638470\n",
      "4146   9.433484   9.681955\n",
      "2983   9.104980   8.755157\n",
      "\n",
      "[1424 rows x 2 columns]\n"
     ]
    },
    {
     "name": "stderr",
     "output_type": "stream",
     "text": [
      "C:\\Users\\Asus\\anaconda3\\lib\\site-packages\\sklearn\\utils\\validation.py:1688: FutureWarning: Feature names only support names that are all strings. Got feature names with dtypes: ['int', 'str']. An error will be raised in 1.2.\n",
      "  warnings.warn(\n"
     ]
    },
    {
     "name": "stdout",
     "output_type": "stream",
     "text": [
      "R^2 Score:  0.5863507087810247\n"
     ]
    },
    {
     "name": "stderr",
     "output_type": "stream",
     "text": [
      "C:\\Users\\Asus\\anaconda3\\lib\\site-packages\\sklearn\\utils\\validation.py:1688: FutureWarning: Feature names only support names that are all strings. Got feature names with dtypes: ['int', 'str']. An error will be raised in 1.2.\n",
      "  warnings.warn(\n"
     ]
    },
    {
     "name": "stdout",
     "output_type": "stream",
     "text": [
      "TRAINING DATA ACCURACY: 0.6358816715679021\n"
     ]
    },
    {
     "name": "stderr",
     "output_type": "stream",
     "text": [
      "C:\\Users\\Asus\\anaconda3\\lib\\site-packages\\sklearn\\utils\\validation.py:1688: FutureWarning: Feature names only support names that are all strings. Got feature names with dtypes: ['int', 'str']. An error will be raised in 1.2.\n",
      "  warnings.warn(\n"
     ]
    },
    {
     "name": "stdout",
     "output_type": "stream",
     "text": [
      "TEST DATA ACCURACY 0.5863507087810247\n",
      "******************************************************\n",
      "\n",
      "\n"
     ]
    }
   ],
   "source": [
    "models={\n",
    "    \"Linear Regression\":LinearRegression(),\n",
    "    \"Decision Tree\":DecisionTreeRegressor(random_state=67,max_leaf_nodes=None,max_features=\"auto\",max_depth=8),\n",
    "    \"Random Forest\": RandomForestRegressor(n_estimators=1200,min_samples_split=2,max_features=9,max_depth=10),\n",
    "    \"KNN\":KNeighborsRegressor(p=1,n_neighbors=15,n_jobs=-1)\n",
    "}\n",
    "for i in range(len(list(models))):\n",
    "    model=list(models.values())[i]\n",
    "    model.fit(X_train,y_train) \n",
    "    \n",
    "    print(list(models.keys())[i])\n",
    "    \n",
    "    \n",
    "    y_pred=model.predict(X_test)\n",
    "    comparison=pd.DataFrame({\"Actual\":y_test,\"Predicted\":y_pred})\n",
    "    \n",
    "    print(comparison)\n",
    "    \n",
    "    \n",
    "    mse1=mean_squared_error(y_test,y_pred)\n",
    "    r1=r2_score(y_test,model.predict(X_test))\n",
    "    \n",
    "    print(\"R^2 Score: \",r1)\n",
    "    \n",
    "    print(\"TRAINING DATA ACCURACY:\", model.score(X_train, y_train))\n",
    "    print(\"TEST DATA ACCURACY\", model.score(X_test, y_test))\n",
    "    print(\"******************************************************\")\n",
    "    print('\\n')"
   ]
  },
  {
   "cell_type": "code",
   "execution_count": null,
   "id": "80f37ff2",
   "metadata": {},
   "outputs": [],
   "source": []
  }
 ],
 "metadata": {
  "kernelspec": {
   "display_name": "Python 3 (ipykernel)",
   "language": "python",
   "name": "python3"
  },
  "language_info": {
   "codemirror_mode": {
    "name": "ipython",
    "version": 3
   },
   "file_extension": ".py",
   "mimetype": "text/x-python",
   "name": "python",
   "nbconvert_exporter": "python",
   "pygments_lexer": "ipython3",
   "version": "3.9.12"
  }
 },
 "nbformat": 4,
 "nbformat_minor": 5
}
